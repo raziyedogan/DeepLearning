{
 "cells": [
  {
   "cell_type": "markdown",
   "id": "812f208e",
   "metadata": {},
   "source": [
    "## Logistic Regression"
   ]
  },
  {
   "cell_type": "markdown",
   "id": "c957aad1",
   "metadata": {},
   "source": [
    "Logistic regression, bir classification algoritmasıdır.\n",
    "\n",
    "Logistic regresison genelde 0 ve 1 sonucu verir. Bu durum binary classification'dır. Mesela kedi ve köpek olmak üzere iki sınıf olması durumunda bu binary classification'dur. Kedi ve Köpek sınıflarını 0 ve 1 şeklinde temsil edebiliriz.\n",
    "\n",
    "Birde şunu belirtmek gerek ki, veri setindeki veriler birer resim ise bu resimler piksellerden oluşur ve logistic regression modeline resmi öğretebilmek için her bir resimdeki piksel değerlerini bir numpy array'e depolarız. Yani data'yı bir numpy array'e çevirmeliyiz.\n",
    "\n",
    "Artificial neural network, convolutional neural network aslında bir deep learning'tir. Logistic regression'da basit bir neural network'tür."
   ]
  },
  {
   "cell_type": "markdown",
   "id": "0bf94b90",
   "metadata": {},
   "source": [
    "## Computation Graph"
   ]
  },
  {
   "cell_type": "markdown",
   "id": "961f854f",
   "metadata": {},
   "source": [
    "Logistic regression, Convolutional Neural Network, Artificial neural network, Recurrent neural network gibi konuları daha kolaylıkla anlamak için kullandığımız bazı grafikler var ve bunlara computation graph denir.\n",
    "\n",
    "Computation Graph, matematiksel ifadeleri görselleştirmek için kullandığımız bir yöntemdir.\n",
    "\n",
    "c = √ a^2 + b^2\n",
    "\n",
    "Bu matematiksel ifadenin computation graph ile görselleştirilmiş hali şu şekildedir:\n",
    "\n",
    "<img src=\"computation_graph.png\" style=\"width:600px;height:300px\"/>\n",
    "\n",
    "Böylelikle karekök alan bir graf elde edilmiştir."
   ]
  },
  {
   "cell_type": "markdown",
   "id": "2585cc03",
   "metadata": {},
   "source": [
    "Şimdi de logistic regression'un computation graph'ına bakalım.\n",
    "\n",
    "<img src=\"log_computationn.png\" style=\"width:900px;height:500px\"/>"
   ]
  },
  {
   "cell_type": "markdown",
   "id": "a442803f",
   "metadata": {},
   "source": [
    "Yukarıdaki görsel üzerinden anlatalım.\n",
    "\n",
    "Amacımız modeli test ya da train etmektir. Veri setinde işaret diline dair görseller bulunmaktadır. Her bir resim 4096x1 boyutunda array'dir. 1-DeepLearningandDataSetIntroduction isimli dökümanda görsel üzerinde X_train(images) kısmında görebilirsiniz. \n",
    "\n",
    "Mavi yuvarlaklar resimdeki her bir pikseli ifade eder. Pikseller, eğer resim bgr ise renk tonlarına göre 0 ile 255 arasında, gri ise renk tonlarına göre 0 ile 1 arasında sayısal değerlerdir. Toplamda 4096 tane piksel bulunmakta. Bu pikselleri, veri setindeki feature'ler yani sütunlar olarak düşünebiliriz.\n",
    "\n",
    "Train etmek, resmi modelimize uydurmak anlamına gelir. Görselde görüldüğü üzere 4096 tane pixel bulunmaktadır. Yani aslında 4096 tane feature vardır. Her bir pikseli farklı ağırlık değerleri ile çarpıyoruz. Sonra bu çarpımlar sonucunda elde edilen tüm değerler toplanır. Toplam sonucuna birde bias değeri eklenir. Tüm bu işlemlerin sonucunda bir z değeri elde edilir.\n",
    "\n",
    "z = b + px1w1 + px2w2 + ... + px4096*w4096\n",
    "\n",
    "Sonrasında z değerine sigmoid function uygulanıyor.\n",
    "\n",
    "Sigmoid function, değeri 0 ile 1 arasında bir değere çeker.\n",
    "\n",
    "z değerine sigmoid function uygulanması ile tahmin edilen y_head değeri elde edilir ve y_head değeri 0 ile 1 arasında probabilistic değerdir.\n",
    "\n",
    "Mesela tüm bu işlemlerin ardından 0.9 değerini elde edelim. Threshold değeri 0.5 tir ve 0.5'in üzerindeki değerler 1, 0.5'in altındaki değerler 0 olsun diyoruz. 0.9 değeri 0.5 değerinden büyük olduğuna göre sonuç olarak 1 çıktısı elde edilir. Yani resim üzerindeki işaret 1'dir tahmini sağlanmıştır.\n",
    "\n",
    "Ayrıca weight ve bias değerleri güncellenmelidir çünkü burada bir resim için eğitim yapılmıştır ve veri setindeki geri kalan her bir resmin eğitimi için w ve b değerleri güncellenmelidir. Bu güncelleme işlemi sigmoid fonksiyonunun türevinin alınması ile yapılır.\n",
    "\n",
    "Modelde öğrenilen şeyler weight ve bias değerleridir.\n",
    "\n",
    "Mesela başlangıçta tüm w değerleri 0 ve b değeride 0 olsun. Bu durumda z=0 elde ederiz. 0<0.5 olduğuna göre 0 sonucu elde edilir ama resimdeki işaret 1'dir. Dolayısıyla yanlış tahmin yapılmıştır. Bu durumda geriye doğru gidilir. Sigmoid fonksiyonunun türevi alınır ve türevini alarak bias ile weight değerlerini güncelliyoruz. Sonra diğer resim alınır ve piksel değerleri güncellenmiş weight değerleri ile çapılırarak tüm sonuçlar toplanır ve güncellenmiş bias değeri bu toplamm sonucu ile toplanır sonra bu sonuca sigmoid fonksiyonu uygulanır ve son sonuç elde edilir. Mesela bu sefer de tahmin doğru olsun. Sonrasında tekrar güncelleme işlemleri yapılmalıdır. Tekrar sigmoid fonksiyonunun türevi alınır, sigmoid fonksiyonun geri kalan kısmında gördüğünüz lineer işlemlerin türevi alınır ve weight ve bias güncellenir.\n",
    "\n",
    "Böylece weight ve bias değerlerini sürekli güncelleyerek tüm resimler eğitilir. En sonunda elde edilen weight ve bias değerleri, tüm resimlere göre eğitilmiş olan logistic regression modelinin katsayıları ve bias değeri oluyor.\n",
    "\n",
    "Şunuda belirtmek gerek ki, sigmoid function türevi alınabilen bir fonksiyon olduğu için w0,w1 gibi değerleri güncelleyebiliyoruz. Türevi alınamayan bir fonksiyon kullanılsaydı weight ve bias değerleri güncellenemezdi."
   ]
  },
  {
   "cell_type": "markdown",
   "id": "9d1edeff",
   "metadata": {},
   "source": [
    "## Initializing Parameters"
   ]
  },
  {
   "cell_type": "markdown",
   "id": "4e6b9e73",
   "metadata": {},
   "source": [
    "Model, weight ve bias değerlerini öğrenir. Weight her bir pikselin katsayısıdır. Yani weight hangi pikselin ne kadar öneme sahip olduğunu ifade eder.\n",
    "\n",
    "Weight ve bias parametrelerdir. Bu parametrelerin ilk değerlerini seçebilmek için bazı teknikler vardır. Bu teknikleri artifical neural network kısmında inceleyeceğiz. \n",
    "\n",
    "Şimdilik genelde literatürde bu değerlerin kullanılmasından dolayı weight için başlangıç değerini 0.01 olarak ve bias değerini 0 olarak seçelim.\n",
    "\n",
    "Weight değerini 0 değilde 0.01 seçme sebebimiz, eğer 0 seçseydik weight'ler ve bias öğrenemezdi. Yani sonuca ulaştıktan sonra weight ve bias değerlerinin güncellenmesi için geriye dönüldüğünde weight değerleri 0 olduğunda güncellenecek bir şey olmadığından güncelleme gerçekleşemez."
   ]
  },
  {
   "cell_type": "markdown",
   "id": "a7a3814a",
   "metadata": {},
   "source": [
    "## Forward Propagation"
   ]
  },
  {
   "cell_type": "markdown",
   "id": "9f657b32",
   "metadata": {},
   "source": [
    "Pikseller ile cost function arasındaki işlemlerin toplamına Forward Propagation denir. İleriye doğru gitmek şeklinde düşünebiliriz.\n",
    "\n",
    "z değeri, resmin piksellerinin ağırlıkları ile çarpımı sonucunda tüm değerlerin toplanıp, bu toplam değeri ile de bias değerinin toplanması sonucunda elde edilir. Sonrasında forward propagation devam ediyor ve z değeri sigmoid function içerisine koyularak 0 ile 1 arasında bir değer elde edilir ve sonrasında y_head (probability) değeri elde edilir. \n",
    "\n",
    "Sonrasında loss(error) function hesaplanır.\n",
    "\n",
    "<font color=\"LightSeaGreen\"><br>\n",
    "LOSS FUNCTION:"
   ]
  },
  {
   "cell_type": "markdown",
   "id": "a35c70dc",
   "metadata": {},
   "source": [
    "<img src=\"loss.jpg\" style=\"width:400px;height:90px\"/>\n",
    "\n",
    "Loss function matematiksel formülü yukarıda gördüğünüz gibidir.\n",
    "\n",
    "Gerçek değer ile tahmin edilen değer aynı ise loss değeri 0'dır. Gerçek değer ile tahmin edilen değer farklı ise oldukça büyük bir loss değeri elde edilir.\n",
    "\n",
    "Loss = hata = kayıp ➡️ Bunlar aynı ifadelerdir.\n",
    "\n",
    "<font color=\"MediumOrchid\"><br>\n",
    "COST FUNCTION: Her bir resim için bir loss function değeri vardır ve bu loss function değerlerinin hepsinin toplamı cost function değeridir. Yani tüm hataların toplamı cost function değeridir. Eğer cost function değeri yüksek ise modelin iyi olduğu söylenemez. Bu durumda weight değerleri yanlıştır ve bu değerlerin güncellenmesi gerekir.\n",
    "\n",
    "Logistic regression'un computation graph'ında bir resim için forward propagation tamamen gerçekleştirilsin. Yani baştan sona işlemler yapılsın. Sonrasında loss fonksiyonuna elde ettiğimiz y_head değerini (tahmin edilen değer) ve y değerini (ilk baştaki gerçek değer) vererek, loss function değerini elde ederiz.\n",
    "\n",
    "Bu bir resim için yapılmıştır. Sonrasında aynı şekilde ikinci resim için de loss function değeri elde ederiz ve böylece ikinci resim için de forward propagation'u tamamlamış oluruz. Diğer resimlere de forward propagation yapmalıyız.\n",
    "\n",
    "Tüm resimler için forward propagation'u nasıl yapabiliriz? :\n",
    "\n",
    "Her bir resmi for döngüsü içerisine alarak yapabiliriz fakat for döngüsü çok zaman aldığı için çalışma zamanı açısından kullanışlı bir yöntem değildir.\n",
    "\n",
    "Bir diğer yöntem ise, bir numpy array'in satırları pikselleri, sütunları resimleri ifade edecek şekilde ayarlarız. Yani bir matrisi bir kerede forward propagation yaparak her bir resim için bir loss değeri elde ederiz. Sonra tüm bu elde edilen loss değerlerini toplayarak bir tane cost değeri elde ederiz. Eğer cost değeri yüksek ise modelin doğru olmadığını anlarız. Bu durumda weight değerlerini ve bias değerini cost function'a göre güncelleriz.\n",
    "\n",
    "Amaç weight değerlerini ve bias değerini güncelleyerek cost function değerini azaltmaktır.\n",
    "\n",
    "Weight değerlerini ve bias değerini güncelleme işlemine Backward Propagation denir. Yani en sondan en başa doğru gitmeye Backward Propagation denir.\n",
    "\n",
    "Gradient Descent algoritmasını kullanarak weight ve bias değerlerini optimize edeceğiz. Yani weight ve bias için cost'a göre en uygun değerleri bulacağız."
   ]
  },
  {
   "cell_type": "markdown",
   "id": "5701cbf4",
   "metadata": {},
   "source": [
    "## Backward Propagation"
   ]
  },
  {
   "cell_type": "markdown",
   "id": "20e32286",
   "metadata": {},
   "source": [
    "Başlangıçta weight ve bias 'a atadığımız değerlerin yanlışlığı sonucunda yüksek bir cost değeri elde ederiz. Bu durumda weight ve bias değerlerini, cost fonksiyonunu azaltacak şekilde güncellemeliyiz. Backward Propagation süreci, cost funciton'dan başlayarak geriye doğru gidilmesi ve weight ve bias değerlerinin güncellenmesidir.\n",
    "\n",
    "Backward Propagation yaparken kullanılan metod Gradient Descent'tir."
   ]
  },
  {
   "cell_type": "markdown",
   "id": "1949dd6d",
   "metadata": {},
   "source": [
    "## Optimization Algorithm with Gradient Descent"
   ]
  },
  {
   "cell_type": "markdown",
   "id": "f98c9c1b",
   "metadata": {},
   "source": [
    "Cost function değerinin en az olmasını sağlsayan weight ve bias değerlerini bulmalıyız. Yani cost function değerini en az yapacak optimize parametreleri bulmalıyız.\n",
    "\n",
    "Eğer hataların toplamı çok ise bu yanlış tahmin yapıldığı anlamına gelir. Çünkü hata fonksiyonunu doğru ya da yanlış yaptığımız tahminler oluşturur. Eğer yanlış tahmin yapılmış ise hata değeri yüksek, doğru tahmin yapılmış ise hata değeri düşüktür.\n",
    "\n",
    "Cost değeri weight ve bias parametrelerinin değerlerine bağlıdır. Dolayısıyla cost değerini azaltmak için weight ve bias değerlerinin güncellenmesi gereklidir.\n",
    "\n",
    "Model, weight ve bias parametlerini öğrenmeli ve sonucunda bu parametreler cost'u azaltır."
   ]
  },
  {
   "cell_type": "markdown",
   "id": "aec7f5e0",
   "metadata": {},
   "source": [
    "<img src=\"gradient.png\" style=\"width:600px;height:400px\"/>"
   ]
  },
  {
   "cell_type": "markdown",
   "id": "2fbd3139",
   "metadata": {},
   "source": [
    "Yukarıdaki grafiği inceleyelim. bias=0 olarak düşünün. x ekseni weight, y ekseni cost değerini ifade etmekte. Cost fonksiyonunun minimum değeri her zaman 0 olamaz. Ama minimum bir değeri vardır.\n",
    "\n",
    "Weight değeri 5 iken cost değeri 1.5'tir. Eğer weight değerleri 5 ise forward propagation yaptıktan sonra cost fonskiyonunun değeri 1.5 oluyormuş. Görselde gördüğümüz gibi weight değerini azaltırsak, min cost'a doğru ilerlemiş oluruz.\n",
    "\n",
    "w := w - step ifadesinin anlamı, w değerlerini güncelle demektir. Weight değerinden step'i çıkararız ve elde edilen yeni değer güncel w değeridir.\n",
    "\n",
    "Step: weight değeri 5 ve cost değeri 1.5 olan kırmızı çizgi üzerindeki siyah noktanın kestiği line, bu noktanın bu fonksiyona göre eğimidir. Bu eğim step'tir.\n",
    "\n",
    "slope1 değeri mesela 3 olsun ve weight değerinin güncellenmesi sonucunda yeni weight değeri 5-3=2 olur. Cost değeri bir önceki adımdaki değere göre daha küçük ama henüz minimum noktada değil. Dolayısıyla bir kere daha forward propagation yapalım.\n",
    "\n",
    "Bu sefer cost değeri 0.4 oldu. Fakat yine cost değeri minimum değil. Dolayısıyla bir step daha ilerleriz.\n",
    "\n",
    "slop22 = 0.7 'dir. 2-0.7=1.3 (w-slope2) elde edilir. Yani yeni weight değerleri 1.3'tür. Ve cost değeri 0.3'tür. Minimum cost değeri budur fakat bu değerin minimum olup olmadığı algoritma tarafından bilinmiyor. Şekilde görebiliyoruz ama gerçekte minimum olup olmadığını bilemeyiz. Dolayısıyla bir kere daha türev alırız.\n",
    "\n",
    "Slope3=0.01 'dir. 1.3-0.01=1.29 (w-slope3) elde edilir. 1.29 değeri neredeyse 1.3 (w) 'e eşittir. Yani slope3 neredeyse 0 yani burada neredeyse değişim yoktur.\n",
    "\n",
    "<font color = \"DodgerBlue\"><br>\n",
    "Değişim yok ise minimum noktaya ulaşılmış demektir.\n",
    "    \n",
    "En son güncellemede weigth değeri değişmedi. Dolayısıyla cost fonksiyonunun minimum noktasını bulmuş olduk.\n",
    "    \n",
    "Bir grafiğin bir noktaya göre türevini alırsak, o grafiğin o noktaya göre eğimini bulmuş oluruz.\n",
    "    \n",
    "Yani burada cost fonksiyonunun weight'e göre eğimini bulduk. Eğer cost için minimum değerdeysek, eğim (slope) 0 'dır.\n",
    "\n",
    "<font color = \"LimeGreen\"><br>    \n",
    "Bir fonksiyonun bir noktaya göre türevi, o fonksiyonun eğimini verir. Yani minimum cost değerini bulabilmek için o fonksiyonun o noktaya göre türevini sıfıra eşitlemeliyiz. Artık weight değeri değişmiyor ise minimum cost değerine ulaşılmış demektir.\n",
    "    \n",
    "Tüm bu işlemler bias içinde aynıdır."
   ]
  },
  {
   "cell_type": "markdown",
   "id": "8cf01cc2",
   "metadata": {},
   "source": [
    "<img src=\"cost.png\" style=\"width:400px;height:200px\"/>"
   ]
  },
  {
   "cell_type": "markdown",
   "id": "6bb9f8e7",
   "metadata": {},
   "source": [
    "Yukarıdaki formülü açıklayalım. Burada J cost fonksiyonudur. b=0 olduğundan burada cost fonksiyonunun weight'e (w) göre türevinin alınması söyleniyor. Yani aslında bu formül w := w - step ifadesi ile aynıdır.\n",
    "\n",
    "Formülde α işareti, learning rate 'dir. Learning rate, öğrenme hızı, öğrenme oranı olarak nitelendirilir.\n",
    "\n",
    "Mesela Paris'teyiz ve Madrid'e gitmek istiyoruz. Bizim hızımız (learning rate) küçüktür. Bu durumda Madrid'e çok yavaş gideriz ve çok uzun zaman alır. Eğer hızımız (learning rate) çok yüksek ise de hiçbir zaman Madrid'e gidemeyebiliriz çünkü kaza yapabiliriz. Bu yüzde hız için (learning rate) en uygun değeri seçmeliyiz.\n",
    "\n",
    "w ve b güncellenebilen parametrelerdir. α ise hyperparameter'dir. Yani önce α değerini seçeriz ve sonrasında bu değeri değiştirerek ayarlarız.\n",
    "\n",
    "<font color = \"Orange\"><br>  \n",
    "Learning rate değeri çok büyük olmamalı ve çok küçük de olmamalıdır. Learning rate değerini seçmek için denemek zorundayız.\n",
    "    \n",
    "Genelde başlangıçta learning rate değeri 0.01 seçilir."
   ]
  },
  {
   "cell_type": "markdown",
   "id": "407be7f6",
   "metadata": {},
   "source": [
    "Backward propagation ile geri giderken weight ve bias değerlerini, cost fonksiyonun weight ve bias'a göre türevini alarak güncelleriz. Türevi almak eğimi bulmak demektir. Eğer eğim yüksek ise min cost değerinden uzağız demektir, eğer eğim 0 ise min cost değerindeyiz demektir.\n",
    "\n",
    "Weight ve bias değerlerini yukarıdaki formüle göre güncelleriz.\n",
    "\n",
    "<img src=\"cost_grafik.png\" style=\"width:700px;height:400px\"/>"
   ]
  },
  {
   "cell_type": "markdown",
   "id": "a3b7ad84",
   "metadata": {},
   "source": [
    "Cost değerinin değişimlerini grafikte görmekteyiz. Cost değeri başlangıçta 14 çıkmış ve sonrasında giderek 0'a yaklaşmış.\n",
    "\n",
    "Yani backward ve forward'lar arttıkça cost değeri giderek 0'a yaklaşmıştır.\n",
    "\n",
    "Grafikte gördüğünüz üzere cost değeri 0'a çok yaklaşmış ve artık azalmamaya başlamış dolayısıyla bu noktada durdurulmuştur."
   ]
  },
  {
   "cell_type": "code",
   "execution_count": 1,
   "id": "b1d6c632",
   "metadata": {},
   "outputs": [],
   "source": [
    "import numpy as np \n",
    "import pandas as pd \n",
    "import matplotlib.pyplot as plt\n",
    "\n",
    "\"\"\"\n",
    "Algoritmalara güncelleme geldiği zaman, eski modu kullandığımıza dair uyarılar verilebiliyor. Bu uyarıları görmemek için \n",
    "aşağıdaki kodu yazarız:\n",
    "\"\"\"\n",
    "\n",
    "# import warnings\n",
    "import warnings\n",
    "# filter warnings\n",
    "warnings.filterwarnings('ignore')"
   ]
  },
  {
   "cell_type": "code",
   "execution_count": 2,
   "id": "076f7727",
   "metadata": {},
   "outputs": [
    {
     "data": {
      "text/plain": [
       "(-0.5, 63.5, 63.5, -0.5)"
      ]
     },
     "execution_count": 2,
     "metadata": {},
     "output_type": "execute_result"
    },
    {
     "data": {
      "image/png": "[encoded data removed]",
      "text/plain": [
       "<Figure size 432x288 with 2 Axes>"
      ]
     },
     "metadata": {
      "needs_background": "light"
     },
     "output_type": "display_data"
    }
   ],
   "source": [
    "x_l = np.load('X.npy')\n",
    "Y_l = np.load('Y.npy')\n",
    "img_size = 64\n",
    "plt.subplot(1, 2, 1)\n",
    "plt.imshow(x_l[260].reshape(img_size, img_size))\n",
    "plt.axis('off')\n",
    "plt.subplot(1, 2, 2)\n",
    "plt.imshow(x_l[900].reshape(img_size, img_size))\n",
    "plt.axis('off')"
   ]
  },
  {
   "cell_type": "code",
   "execution_count": 3,
   "id": "694da108",
   "metadata": {},
   "outputs": [
    {
     "name": "stdout",
     "output_type": "stream",
     "text": [
      "X shape:  (410, 64, 64)\n",
      "Y shape:  (410, 1)\n"
     ]
    }
   ],
   "source": [
    "X = np.concatenate((x_l[204:409], x_l[822:1027] ), axis=0) # from 0 to 204 is zero sign and from 205 to 410 is one sign \n",
    "z = np.zeros(205)\n",
    "o = np.ones(205)\n",
    "Y = np.concatenate((z, o), axis=0).reshape(X.shape[0],1)\n",
    "print(\"X shape: \" , X.shape)\n",
    "print(\"Y shape: \" , Y.shape)"
   ]
  },
  {
   "cell_type": "code",
   "execution_count": 4,
   "id": "dd9a7a1c",
   "metadata": {},
   "outputs": [],
   "source": [
    "from sklearn.model_selection import train_test_split\n",
    "X_train, X_test, Y_train, Y_test = train_test_split(X, Y, test_size=0.15, random_state=42)\n",
    "number_of_train = X_train.shape[0]  #train sample sayısı number_of_train değişkenine atanmıştır.\n",
    "number_of_test = X_test.shape[0]   #test sample sayısı number_of_test değişkenine atanmıştır."
   ]
  },
  {
   "cell_type": "code",
   "execution_count": 5,
   "id": "cc14d9ea",
   "metadata": {},
   "outputs": [
    {
     "name": "stdout",
     "output_type": "stream",
     "text": [
      "X train flatten (348, 4096)\n",
      "X test flatten (62, 4096)\n"
     ]
    }
   ],
   "source": [
    "X_train_flatten = X_train.reshape(number_of_train,X_train.shape[1]*X_train.shape[2])\n",
    "X_test_flatten = X_test .reshape(number_of_test,X_test.shape[1]*X_test.shape[2])\n",
    "print(\"X train flatten\",X_train_flatten.shape)\n",
    "print(\"X test flatten\",X_test_flatten.shape)"
   ]
  },
  {
   "cell_type": "code",
   "execution_count": 6,
   "id": "572defc8",
   "metadata": {},
   "outputs": [
    {
     "name": "stdout",
     "output_type": "stream",
     "text": [
      "x train:  (4096, 348)\n",
      "x test:  (4096, 62)\n",
      "y train:  (1, 348)\n",
      "y test:  (1, 62)\n"
     ]
    }
   ],
   "source": [
    "x_train = X_train_flatten.T\n",
    "x_test = X_test_flatten.T\n",
    "y_train = Y_train.T\n",
    "y_test = Y_test.T\n",
    "print(\"x train: \",x_train.shape)\n",
    "print(\"x test: \",x_test.shape)\n",
    "print(\"y train: \",y_train.shape)\n",
    "print(\"y test: \",y_test.shape)"
   ]
  },
  {
   "cell_type": "code",
   "execution_count": 7,
   "id": "1dd9712c",
   "metadata": {},
   "outputs": [],
   "source": [
    "# short description and example of definition (def)\n",
    "def dummy(parameter):\n",
    "    dummy_parameter = parameter + 5\n",
    "    return dummy_parameter\n",
    "result = dummy(3)     # result = 8"
   ]
  },
  {
   "cell_type": "markdown",
   "id": "a01886d9",
   "metadata": {},
   "source": [
    "Yukarıdaki kod bloğunda python'da metodun nasıl tanımlandığına dair bir hatırlatma yapılmıştır.\n",
    "\n",
    "Şimdi ise parametreleri initialize edelim."
   ]
  },
  {
   "cell_type": "code",
   "execution_count": 8,
   "id": "b475c27c",
   "metadata": {},
   "outputs": [],
   "source": [
    "# lets initialize parameters\n",
    "# So what we need is dimension 4096 that is number of pixels as a parameter for our initialize method(def)\n",
    "def initialize_weights_and_bias(dimension):\n",
    "    w = np.full((dimension,1),0.01)\n",
    "    b = 0.0\n",
    "    return w, b"
   ]
  },
  {
   "cell_type": "markdown",
   "id": "f5fe5970",
   "metadata": {},
   "source": [
    "Pikselleri weight'lerle çarpmak ve bias ile toplamak için weight'lerin ve bias'ın başlangıç değerlerine sahip olması lazım. Bu başlangıç değerlerini seçerken hem eğitime dayanarak hemde sezgisel bir şekilde weight'lere 0.01 değerini ve bias'ada 0 değerini atarız.\n",
    "\n",
    "4096'lık bir array'e ihtiyaç vardır. Çünkü 4096 tane piksel vardır ve bunları weight'lerle çarpacağımız için 4096 tane weight'e ihtiyaç vardır.\n",
    "\n",
    "Yukarıdaki kod bloğunu açıklayalım. dimension isimli parametre, bir resmin boyutunu ifade etmektedir. Yani dimension=4096'dır. \n",
    "\n",
    "w = np.full((dimension,1),0.01) satırında yapılanlar: full(), numpy kütüphanesinin bir metodudur. (dimension,1)'lik yani 4096,1 'lik matris oluşturuluyor. Bu matrisin içerisine 0.01 sayısı konulmuştur. Sonuç olarak weight, 4096x1 'lik 0.01 sayılarıyla dolu bir matristir.\n",
    "\n",
    "b = 0.0 satırı ilede bias 0'a eşitlenmiştir."
   ]
  },
  {
   "cell_type": "code",
   "execution_count": 9,
   "id": "2303e509",
   "metadata": {},
   "outputs": [],
   "source": [
    "w,b = initialize_weights_and_bias(4096)"
   ]
  },
  {
   "cell_type": "markdown",
   "id": "1570b1c2",
   "metadata": {},
   "source": [
    "Forward propagation metodunun içerisinde z değerini bulacağız. Ayrıca birde sigmoid function'u bulmalıyız. Sigmoid function metodunu yazalım."
   ]
  },
  {
   "cell_type": "code",
   "execution_count": 10,
   "id": "ff382bd1",
   "metadata": {},
   "outputs": [],
   "source": [
    "# calculation of z\n",
    "#z = np.dot(w.T,x_train)+b\n",
    "def sigmoid(z):\n",
    "    y_head = 1/(1+np.exp(-z))\n",
    "    return y_head"
   ]
  },
  {
   "cell_type": "markdown",
   "id": "4e0bf15f",
   "metadata": {},
   "source": [
    "Sigmoid fonksiyonunu yazdığımıza göre y_head kısmına geçebiliriz. Bunun için forward propagation metodunu yazmalıyız."
   ]
  },
  {
   "cell_type": "markdown",
   "id": "9525cbb4",
   "metadata": {},
   "source": [
    "## Implementing Forward Propagation"
   ]
  },
  {
   "cell_type": "code",
   "execution_count": 11,
   "id": "603771fd",
   "metadata": {},
   "outputs": [],
   "source": [
    "# Forward propagation steps:\n",
    "# find z = w.T*x+b\n",
    "# y_head = sigmoid(z)\n",
    "# loss(error) = loss(y,y_head)\n",
    "# cost = sum(loss)\n",
    "def forward_propagation(w,b,x_train,y_train):\n",
    "    z = np.dot(w.T,x_train) + b\n",
    "    y_head = sigmoid(z) # probabilistic 0-1\n",
    "    loss = -y_train*np.log(y_head)-(1-y_train)*np.log(1-y_head)\n",
    "    cost = (np.sum(loss))/x_train.shape[1]      # x_train.shape[1]  is for scaling\n",
    "    return cost "
   ]
  },
  {
   "cell_type": "markdown",
   "id": "ca68ead8",
   "metadata": {},
   "source": [
    "Forward propagation, weight'ler ile pikseller çarpılıp elde edilen çarpımlar toplanır ve bu toplam sonucu ile bias değeri toplanır ve bir z değeri elde edilir. Bu z değeri sigmoid'e verilir ve daha sonra sigmoid'den çıkan sonuç bir loss function'a eşitlenir ve tüm loss değerleri toplanarak cost değeri elde edilir."
   ]
  },
  {
   "cell_type": "markdown",
   "id": "3be6c11b",
   "metadata": {},
   "source": [
    "Şimdi cost değerine göre geriye dönüp weight ve bias değerleri güncellenir. Yani Backward propagation yapılır."
   ]
  },
  {
   "cell_type": "markdown",
   "id": "7499a0c7",
   "metadata": {},
   "source": [
    "## Implementing Backward Propagation"
   ]
  },
  {
   "cell_type": "code",
   "execution_count": 12,
   "id": "89eaec5d",
   "metadata": {},
   "outputs": [],
   "source": [
    "def forward_backward_propagation(w,b,x_train,y_train):\n",
    "    # forward propagation\n",
    "    z = np.dot(w.T,x_train) + b\n",
    "    y_head = sigmoid(z)\n",
    "    loss = -y_train*np.log(y_head)-(1-y_train)*np.log(1-y_head)\n",
    "    cost = (np.sum(loss))/x_train.shape[1]      # x_train.shape[1]  is for scaling\n",
    "    # backward propagation\n",
    "    derivative_weight = (np.dot(x_train,((y_head-y_train).T)))/x_train.shape[1] # x_train.shape[1]  is for scaling\n",
    "    derivative_bias = np.sum(y_head-y_train)/x_train.shape[1]                 # x_train.shape[1]  is for scaling\n",
    "    gradients = {\"derivative_weight\": derivative_weight,\"derivative_bias\": derivative_bias}\n",
    "    return cost,gradients"
   ]
  },
  {
   "cell_type": "markdown",
   "id": "cd9e13be",
   "metadata": {},
   "source": [
    "Yukarıda forward propagation ve backward propagation kodlarını görmekteyiz. backward propagation ile elde edilen weight ve bias değerleri güncellenir.\n",
    "\n",
    "derivative_weight = (np.dot(x_train,((y_head-y_train).T)))/x_train.shape[1]\n",
    "\n",
    "Bu satırda, x_train.shape[1] ile sample sayısına erişilir ve burada sample sayısına bölüm yapılmıştır. Bunun sebebi, scale etmektir. Scale edilmediğinde belli bir yere kadar değerler çok büyük çıkar ve dolayısıyla scale etmek avantaj sağlar."
   ]
  },
  {
   "cell_type": "markdown",
   "id": "50480366",
   "metadata": {},
   "source": [
    "## Implementing Update Parameters"
   ]
  },
  {
   "cell_type": "markdown",
   "id": "9d677adf",
   "metadata": {},
   "source": [
    "Artık cost'a göre weight'leri ve bias'ı güncelleyeceğimiz adımları, stepleri, slope'yi ya da değişimi biliyoruz. Dolayısıyla update kısmına geçebiliriz."
   ]
  },
  {
   "cell_type": "code",
   "execution_count": 13,
   "id": "11252bc9",
   "metadata": {},
   "outputs": [],
   "source": [
    "# Updating(learning) parameters\n",
    "def update(w, b, x_train, y_train, learning_rate,number_of_iterarion):\n",
    "    cost_list = []\n",
    "    cost_list2 = []\n",
    "    index = []\n",
    "    # updating(learning) parameters is number_of_iterarion times\n",
    "    for i in range(number_of_iterarion):\n",
    "        # make forward and backward propagation and find cost and gradients\n",
    "        cost,gradients = forward_backward_propagation(w,b,x_train,y_train)\n",
    "        cost_list.append(cost)\n",
    "        # lets update\n",
    "        w = w - learning_rate * gradients[\"derivative_weight\"]\n",
    "        b = b - learning_rate * gradients[\"derivative_bias\"]\n",
    "        if i % 10 == 0:\n",
    "            cost_list2.append(cost)\n",
    "            index.append(i)\n",
    "            print (\"Cost after iteration %i: %f\" %(i, cost))\n",
    "    # we update(learn) parameters weights and bias\n",
    "    parameters = {\"weight\": w,\"bias\": b}\n",
    "    plt.plot(index,cost_list2)\n",
    "    plt.xticks(index,rotation='vertical')\n",
    "    plt.xlabel(\"Number of Iterarion\")\n",
    "    plt.ylabel(\"Cost\")\n",
    "    plt.show()\n",
    "    return parameters, gradients, cost_list\n",
    "#parameters, gradients, cost_list = update(w, b, x_train, y_train, learning_rate = 0.009,number_of_iterarion = 200)"
   ]
  },
  {
   "cell_type": "markdown",
   "id": "21f778ae",
   "metadata": {},
   "source": [
    "Model weight ve bias değerlerini öğrenmeye çalışır. Bu yüzden cost değerinin yüksek olması durumunda weight ve bias değerleri güncellenir. Amaç düşük bir cost değeri elde etmektir.\n",
    "\n",
    "cost_list, cost_list2, index isimli boş listeleri oluşturma sebebimiz, cost ve indeksleri depolayıp sonrasında görselleştirme için kullanacağız.\n",
    "\n",
    "for i in range(number_of_iterarion) satırındaki number_of_iterarion, backward ve forward propagation'u kaç kez yapacağımızın bilgisidir. Bir kez ileriye gidilerek forward yapılıyor, geriye dönülüyor backward yapılıyor ve daha sonra gradient descent metodu ile weight'ler güncelleniyor. for'un her bir iterasyonunde bir kez forward ve bir kez backward yapılmaktadır. \n",
    "\n",
    "Mesela number_of_iterarion=100 ise weight (w) ve bias (b) değerlerini 100 kez güncellemiş oluruz. Yani daha çok öğrenilmiş olur.\n",
    "\n",
    "cost,gradients = forward_backward_propagation(w,b,x_train,y_train) satırında gradients değişkeninde tutulan değerleri değişim yani türevler olarak düşünebiliriz. İleride metod işe yarıyor mu yaramıyor mu diye test ederken cost'u görselleştiricem ve beklentimiz cost'un azalan yönde olmasıdır.\n",
    "\n",
    "w = w - learning_rate * gradients[\"derivative_weight\"] satırında weight değeri güncellenmektedir.\n",
    "\n",
    "b = b - learning_rate * gradients[\"derivative_bias\"] satırında bias değeri güncellenmektedir.\n",
    "\n",
    "derivative_weight ifadesi weight'in türevidir ve derivative_bias ifadesi bias'ın türevidir. learning_rate, öğrenme hızıdır.\n",
    "\n",
    "if i % 10 == 0:\n",
    "\n",
    "            cost_list2.append(cost)\n",
    "            \n",
    "            index.append(i)\n",
    "            \n",
    "            print (\"Cost after iteration %i: %f\" %(i, cost))\n",
    "            \n",
    "Bu satırlarda her 10 iterasyonda bir cost değeri depolanmaktadır. Çünkü tüm cost değerlerini print etmek gereksiz zaman kaybı olacaktır.\n",
    "\n",
    "parameters = {\"weight\": w,\"bias\": b}\n",
    "\n",
    "    plt.plot(index,cost_list2)\n",
    "    \n",
    "    plt.xticks(index,rotation='vertical')\n",
    "    \n",
    "    plt.xlabel(\"Number of Iterarion\")\n",
    "    \n",
    "    plt.ylabel(\"Cost\")\n",
    "    \n",
    "    plt.show()\n",
    "    \n",
    "Yukarıdaki satırlarda ise print ettiğimiz cost'ları görselleştiriyoruz.\n",
    "\n",
    "Böylelikle optimum noktaya sahip minimum cost değerini veren weight ve bias değerlerine sahibiz. Modelimiz hazır olduğuna göre artık tahminler yapabiliriz."
   ]
  },
  {
   "cell_type": "markdown",
   "id": "f83b47a4",
   "metadata": {},
   "source": [
    "## Implementing Prediction"
   ]
  },
  {
   "cell_type": "code",
   "execution_count": 14,
   "id": "a4a50203",
   "metadata": {},
   "outputs": [],
   "source": [
    "# prediction\n",
    "def predict(w,b,x_test):\n",
    "    # x_test is a input for forward propagation\n",
    "    z = sigmoid(np.dot(w.T,x_test)+b)\n",
    "    Y_prediction = np.zeros((1,x_test.shape[1]))\n",
    "    # if z is bigger than 0.5, our prediction is sign one (y_head=1),\n",
    "    # if z is smaller than 0.5, our prediction is sign zero (y_head=0),\n",
    "    for i in range(z.shape[1]):\n",
    "        if z[0,i]<= 0.5:\n",
    "            Y_prediction[0,i] = 0\n",
    "        else:\n",
    "            Y_prediction[0,i] = 1\n",
    "\n",
    "    return Y_prediction\n",
    "# predict(parameters[\"weight\"],parameters[\"bias\"],x_test)"
   ]
  },
  {
   "cell_type": "markdown",
   "id": "dd54a960",
   "metadata": {},
   "source": [
    "Y_prediction = np.zeros((1,x_test.shape[1])) satırında prediction array'i oluşturduk. Array oluşturma sebebimiz, yer ayırmaktır. Bu amaç için sıfırlardan oluşan bir array oluşturduk. append metodu ile listenin sonuna ekleme yapılabilir. Fakat zaman karmaşıklığı açısından efektif olmayacaktı. Dolayısıyla burada appen metodu kullanmak yerine, Y_prediction isimli bir array tanımladığımız için direk istenilen indekse ulaşılabilir. Buda zaman açısından hızlanmaya sebep olur.\n",
    "\n",
    "for i in range(z.shape[1]) satırında tüm z'nin dolaşılması sağlanır. For içerisindeki if bloğunda eğer z'nin mevcut iterasyondaki değeri 0.5'ten küçük ise tahmin 0 yapılır. Else koşulunda eğer z'nin mevcut iterasyondaki değeri 0.5'ten büyük ise tahmin değeri 1 yapılır.\n",
    "\n",
    "Yukarıda z olarak tanımlanan değişken aslında y_head değeridir. Değişken ismi oluştururken ufak bir yanlışlık olmuştur. Buradaki z değişkenini y_head olarak düşünelim.\n",
    "\n",
    "return Y_prediction satırında tahmin edilen değerler döndürülmüştür. Böylelikle tahmin işlemi gerçekleştirilmiştir.\n",
    "\n",
    "Şimdi hazırladığımız tüm metodları logistic regression adı altında birleştirelim."
   ]
  },
  {
   "cell_type": "code",
   "execution_count": 15,
   "id": "3c82a29f",
   "metadata": {},
   "outputs": [
    {
     "name": "stdout",
     "output_type": "stream",
     "text": [
      "Cost after iteration 0: 14.014222\n",
      "Cost after iteration 10: 2.544689\n",
      "Cost after iteration 20: 2.577950\n",
      "Cost after iteration 30: 2.397999\n",
      "Cost after iteration 40: 2.185019\n",
      "Cost after iteration 50: 1.968348\n",
      "Cost after iteration 60: 1.754195\n",
      "Cost after iteration 70: 1.535079\n",
      "Cost after iteration 80: 1.297567\n",
      "Cost after iteration 90: 1.031919\n",
      "Cost after iteration 100: 0.737019\n",
      "Cost after iteration 110: 0.441355\n",
      "Cost after iteration 120: 0.252278\n",
      "Cost after iteration 130: 0.205168\n",
      "Cost after iteration 140: 0.196168\n"
     ]
    },
    {
     "data": {
      "image/png": "[encoded data removed]",
      "text/plain": [
       "<Figure size 432x288 with 1 Axes>"
      ]
     },
     "metadata": {
      "needs_background": "light"
     },
     "output_type": "display_data"
    },
    {
     "name": "stdout",
     "output_type": "stream",
     "text": [
      "train accuracy: 92.816091954023 %\n",
      "test accuracy: 93.54838709677419 %\n"
     ]
    }
   ],
   "source": [
    "def logistic_regression(x_train, y_train, x_test, y_test, learning_rate ,  num_iterations):\n",
    "    # initialize\n",
    "    dimension =  x_train.shape[0]  # that is 4096\n",
    "    w,b = initialize_weights_and_bias(dimension)\n",
    "    # do not change learning rate\n",
    "    parameters, gradients, cost_list = update(w, b, x_train, y_train, learning_rate,num_iterations)\n",
    "    \n",
    "    y_prediction_test = predict(parameters[\"weight\"],parameters[\"bias\"],x_test)\n",
    "    y_prediction_train = predict(parameters[\"weight\"],parameters[\"bias\"],x_train)\n",
    "\n",
    "    # Print train/test Errors\n",
    "    print(\"train accuracy: {} %\".format(100 - np.mean(np.abs(y_prediction_train - y_train)) * 100))\n",
    "    print(\"test accuracy: {} %\".format(100 - np.mean(np.abs(y_prediction_test - y_test)) * 100))\n",
    "    \n",
    "logistic_regression(x_train, y_train, x_test, y_test,learning_rate = 0.01, num_iterations = 150)"
   ]
  },
  {
   "cell_type": "markdown",
   "id": "cd5068e8",
   "metadata": {},
   "source": [
    "dimension değişkeni satır sayısıdır yani kaç tane piksel olduğu bilgisidir. Burada dimension değeri 4096'dır.\n",
    "\n",
    "w,b = initialize_weights_and_bias(dimension) satırında logistic regression'un ilk adımı olan weight ve bias initialize edilmiştir.\n",
    "\n",
    "Sonrasında forward propagation ve backward propagation yaparak weight'leri ve bias'ları güncellemeliyiz. Bunun için update metodu yazmıştık. update metodu içerisinde forward ve backward propagation kısmı yapılıyor ve aynı zamanda weight ve bias değerleri güncelleniyor.\n",
    "\n",
    "Çıktıda görüldüğü üzere cost değeri giderek azalmaktadır.\n",
    "\n",
    "Bu yaptığımız işlemleri sklearn kütüphanesi aracılığıyla bir kaç satırda yapabilmemiz mümkündür. Hadi yapalım."
   ]
  },
  {
   "cell_type": "code",
   "execution_count": 16,
   "id": "9cb89f82",
   "metadata": {},
   "outputs": [
    {
     "name": "stdout",
     "output_type": "stream",
     "text": [
      "test accuracy: 0.967741935483871 \n",
      "train accuracy: 1.0 \n"
     ]
    }
   ],
   "source": [
    "from sklearn import linear_model\n",
    "logreg = linear_model.LogisticRegression(random_state = 42,max_iter= 150)\n",
    "print(\"test accuracy: {} \".format(logreg.fit(x_train.T, y_train.T).score(x_test.T, y_test.T)))\n",
    "print(\"train accuracy: {} \".format(logreg.fit(x_train.T, y_train.T).score(x_train.T, y_train.T)))"
   ]
  },
  {
   "cell_type": "markdown",
   "id": "ec5189ea",
   "metadata": {},
   "source": [
    "Yazdığımız logistic regression metodundan elde ettiğimiz accuracy değeri ile sklearn kütüphanesi aracılığıyla ayaptığımız logistic regression metodundan elde ediken accuracy değeri farklı çıkabilir. Bunun sebebi, sklearn kütüphanesindeki LogisticRegression metodunun içerisinde farklı parametreler var ve bu parametrelerin default değerleri var. Bu parametreler modelin iyileşmesini sağlarlar. Bu yüzden görüldüğü üzere sklearn kütüphanesindeki LogisticRegression metodu ile elde edilen accuracy değeri daha yüksektir."
   ]
  }
 ],
 "metadata": {
  "kernelspec": {
   "display_name": "Python 3 (ipykernel)",
   "language": "python",
   "name": "python3"
  },
  "language_info": {
   "codemirror_mode": {
    "name": "ipython",
    "version": 3
   },
   "file_extension": ".py",
   "mimetype": "text/x-python",
   "name": "python",
   "nbconvert_exporter": "python",
   "pygments_lexer": "ipython3",
   "version": "3.9.7"
  }
 },
 "nbformat": 4,
 "nbformat_minor": 5
}

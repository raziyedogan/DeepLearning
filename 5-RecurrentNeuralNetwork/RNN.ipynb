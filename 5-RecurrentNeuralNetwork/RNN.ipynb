{
 "cells": [
  {
   "cell_type": "markdown",
   "id": "1f1b901c",
   "metadata": {},
   "source": [
    "## Sequence Models"
   ]
  },
  {
   "cell_type": "markdown",
   "id": "5709a6ac",
   "metadata": {},
   "source": [
    "Sequence models, zamana bağlı olarak değişim gösteren modellerdir.\n",
    "\n",
    "Mesela bir havaalanındaki yolcu sayısı zamanla değişir. Dolayısıyla bu sequence modeldir.\n",
    "\n",
    "Mesela \"ders\" kelimesi tek başına olumlu veya olumsuz bir anlam ifade etmemektedir. Bu kelimenin olumlu veya olumsuz bir anlam ifade ettiğini tespit etmek amacıyla RNN kullanabiliriz. RNN, \"çok güzel ders\" cümlesinde ders kelimesini niteleyen kendisinden önceki kelimeleride depolar. Mesela \"güzel\" sıfatını bellekte tutar. Böylelikle \"çok güzel ders\" cümlesi olumlu bir duygu olarak sınıflandırılabiliyor.\n",
    "\n",
    "Böylelikle sentiment classification (duygu sınıflandırma) işlemini RNN ile kolaylıkla yapabiliyoruz. RNN veya CNN algoritmaları ile duygu sınıflandırma işlemi yapılamamaktadır.\n",
    "\n",
    "Zamana bağlı bir model var ise, analiz etmenin, predict etmenin ya da classification yapmanın etkili yollarından birisi RNN'dir."
   ]
  },
  {
   "cell_type": "markdown",
   "id": "65594871",
   "metadata": {},
   "source": [
    "## Recurrent Neural Network (RNN)"
   ]
  },
  {
   "cell_type": "markdown",
   "id": "e03d55db",
   "metadata": {},
   "source": [
    "RNN, belleğe sahiptir ve bu sayede yakın geçmişi hatırlayabilirler. ANN'de hatırlama durumu yoktur. RNN, geçmişi hatırlayarak, geçmiş ile geleceği bağdaştırarak daha da ileriyi predict veya classify edebilirler.\n",
    "\n",
    "RNN, input'lardan önemli gördükleri şeyleri hatırlayabilirler. Bu durum RNN'lerin gelecekle ilgili doğru tahmin yapmalarını sağlarlar.\n",
    "\n",
    "<br>\n",
    "<img src=\"r1.png\" style=\"width:200px;height:300px\"/>"
   ]
  },
  {
   "cell_type": "markdown",
   "id": "cd96fdb5",
   "metadata": {},
   "source": [
    "Hidden layer içerisinde bir sürü node olduğunu düşünün. Bu node'lerin kendi kednini besleyen internal memory yani kendi küçük hafızaları vardır.\n",
    "\n",
    "temporal loop (zamansal döngü), kendini besler. Yani aldığı bir input'u output'u vermesine rağmen kendini o input ile besliyor ve unutmuyor. Bir sonraki node'ye veya layer'a geçtiği zaman daha önceden öğrendiği şey aklında kalmış oluyor.\n",
    "\n",
    "Yani belleğe sahip olmalarından dolayı bir önceki node'de olanları hatırlarlar. Geçmişi hatırlamaları önemlidir çünkü yeni öğrenilenler geçmişte öğrenilenlerin üzerine eklenerek, yeni öğrenilenlerin daha anlamlı olması sağlanabilir. Yani RNN, geçmişte bir şeyler öğreniyor ve gelecekte öğrendikleri ile yeni öğrendikleri arasında bağdaştırma yapıyor. Mesela daha önceki dökümanlarda hidden layer'ın ne olduğunu anlatmıştım. Daha öncesinde hidden layer hakkında bilgimiz olduğu için yukarıdaki görselde hidden layer hakkında öğrendiklerimizi hatırlayıp bağdaştırma yaparak görseli daha iyi analiz edebiliriz. RNN'de aynen bu mantıktadır. Bu işlemi bulundurduğu belleği sayesinde yapabilmektedir.\n",
    "\n",
    "Yukarıdaki görsel, eskiden gösterim şeklidir. Güncel gösterim ise şu şekildedir:\n",
    "\n",
    "<br>\n",
    "<img src=\"r2.png\" style=\"width:800px;height:400px\"/>"
   ]
  },
  {
   "cell_type": "markdown",
   "id": "69e6d996",
   "metadata": {},
   "source": [
    "input, hidden layer'a veriliyor ve bir output elde ediliyor. Bu kısım daha önceki dökümanlardada yapılmıştı. Buradaki fark aradaki siyah çizgidir. Bunun anlamı, önceki hidden layer'da hatırlanması gereken bilgiler bir sonraki hidden layer'a veriliyor. Sonraki hidden layer hem yeni bir input alıyor hem de geçmişten gelen hatırlanması gereken bilgileri alıyor ve yeni bir output veriyor. Bu işlemler esnasında akan bir zaman söz konusudur. n tane input ve n tane output vardır. \n",
    "\n",
    "<br>\n",
    "<img src=\"r3.png\" style=\"width:800px;height:400px\"/>"
   ]
  },
  {
   "cell_type": "markdown",
   "id": "083350de",
   "metadata": {},
   "source": [
    "Yukarıda ise, 1 tane input ve bir sürü output vardır. Bunun anlamı şudur: bir resim olsun. Output ise o resimde yapılan eylemi ifade eden cümledir. Mesela: \n",
    "\n",
    "<br>\n",
    "<img src=\"bisiklet.jpg\" align=\"right\" style=\"width:300px;height:300px\"/>\n",
    "\n",
    "Sağ tarafta bisiklet süren bir kız görülmektedir. RNN ile output olarak \"kız bisiklet sürüyor\" cümlesi elde edilebilir. Böylelikle resimde yapılan eylem cümle olarak ifade edilebilmektedir."
   ]
  },
  {
   "cell_type": "markdown",
   "id": "289d5910",
   "metadata": {},
   "source": [
    "Bu One to Many RNN yapısı olarak adlandırılmaktadır.\n",
    "\n",
    "<br><br>\n",
    "<img src=\"r4.png\" style=\"width:800px;height:400px\"/>"
   ]
  },
  {
   "cell_type": "markdown",
   "id": "df64d53d",
   "metadata": {},
   "source": [
    "Yukarıda gördüğünüz gibi birde Many to One RNN yapısı vardır. Bu yapıda bir sürü input ve 1 tane output bulunmaktadır. Mesela input bir cümle olsun ve output ise bir duygu olsun. Her bir Input'ta kelime veya cümle olabilir. Output ise input ile gelen cümlenin yüzde kaç oranında olumlu veya olumsuz olduğu bilgisidir.\n",
    "\n",
    "<br><br>\n",
    "<img src=\"r5.png\" style=\"width:800px;height:400px\"/>"
   ]
  },
  {
   "cell_type": "markdown",
   "id": "31306c43",
   "metadata": {},
   "source": [
    "Yukarıda gördüğünüz Many to Many RNN yapısıdır. Bu yapıya bir örnek ise, google translate kullanımı ile ingilizceden bir cümleyi türkçeye çevirmektir.\n",
    "\n",
    "<font color=\"CornflowerBlue\"><br>\n",
    "Google translate, çeviri işlemleri için RNN kullanmaktadır."
   ]
  },
  {
   "cell_type": "markdown",
   "id": "27f6f115",
   "metadata": {},
   "source": [
    "RNN short term memory'e sahiptir. LSTM ise long term memory'ede sahip olabiliyor. Short term memory ile çok eski bilgiler hatırlanamaz. Fakat long term memory ile çok uzak veya çok yakın geçmiş hatırlanabilir.\n",
    "\n",
    "RNN'i CNN veya ANN'den ayıran memory unsurudur. \n",
    "\n",
    "RNN bir neural network olduğu için ANN ve CNN'ten memory dışında bir farkı yoktur. RNN'de de cost değeri minimum tutulacak şekilde parametreler güncellenerek ayarlama gerçekleştirilir. Yani RNN'de de weight ve bias vardır. \n",
    "\n",
    "Gradient, cost'a göre weight'lerdeki değişimdir yani türevidir. Step olarakta düşünülebilir.\n",
    "\n",
    "Exploiding Gradients: Gradient'in çok büyük olması durumudur. Gereksiz yere belli weight'lere önem kazandırır. Bu durum engellenmelidir ve LSTM bu durumu engellemektedir. Yani gradient çok büyük olduğu durumda gereksiz bilgiler öğrenilmiş olur ve bu durumun gerçekleşmesi engellenmelidir.\n",
    "\n",
    "Vanishing Gradients: Gradient'in çok küçük olması durumudur. Bu durumda yavaş öğrenim gerçekleşir. "
   ]
  },
  {
   "cell_type": "markdown",
   "id": "a3a74f95",
   "metadata": {},
   "source": [
    "## Implementing RNN with Keras"
   ]
  },
  {
   "cell_type": "markdown",
   "id": "6d8115c3",
   "metadata": {},
   "source": [
    "Keras kütüphanesi python'da neural network, deep learning gibi konularda yardım sağlar.\n",
    "\n",
    "Uygulayacağımız adımlar şu şekildedir:\n",
    "\n",
    "    🟡 Loading and Preprocessing Data\n",
    "    \n",
    "    🟡 Create RNN Model\n",
    "    \n",
    "    🟡 Predictions and Visualising RNN Model\n",
    "    \n",
    "Stock_Price isimli veri setini kullanacağız. Borsada gelecek ile ilgili tahminler yapmaya çalışacağız."
   ]
  },
  {
   "cell_type": "markdown",
   "id": "6e86ebfe",
   "metadata": {},
   "source": [
    "## RNN Loading and Preprocessing Data"
   ]
  },
  {
   "cell_type": "code",
   "execution_count": 1,
   "id": "ffe2a6e0",
   "metadata": {},
   "outputs": [],
   "source": [
    "import numpy as np\n",
    "import pandas as pd\n",
    "import matplotlib.pyplot as plt\n",
    "import warnings\n",
    "warnings.filterwarnings(\"ignore\")"
   ]
  },
  {
   "cell_type": "code",
   "execution_count": 2,
   "id": "b28c7d9f",
   "metadata": {},
   "outputs": [],
   "source": [
    "dataset_train = pd.read_csv(\"Stock_Price_Train.csv\")"
   ]
  },
  {
   "cell_type": "code",
   "execution_count": 3,
   "id": "81b16771",
   "metadata": {},
   "outputs": [
    {
     "data": {
      "text/html": [
       "<div>\n",
       "<style scoped>\n",
       "    .dataframe tbody tr th:only-of-type {\n",
       "        vertical-align: middle;\n",
       "    }\n",
       "\n",
       "    .dataframe tbody tr th {\n",
       "        vertical-align: top;\n",
       "    }\n",
       "\n",
       "    .dataframe thead th {\n",
       "        text-align: right;\n",
       "    }\n",
       "</style>\n",
       "<table border=\"1\" class=\"dataframe\">\n",
       "  <thead>\n",
       "    <tr style=\"text-align: right;\">\n",
       "      <th></th>\n",
       "      <th>Date</th>\n",
       "      <th>Open</th>\n",
       "      <th>High</th>\n",
       "      <th>Low</th>\n",
       "      <th>Close</th>\n",
       "      <th>Volume</th>\n",
       "    </tr>\n",
       "  </thead>\n",
       "  <tbody>\n",
       "    <tr>\n",
       "      <th>0</th>\n",
       "      <td>1/3/2012</td>\n",
       "      <td>325.25</td>\n",
       "      <td>332.83</td>\n",
       "      <td>324.97</td>\n",
       "      <td>663.59</td>\n",
       "      <td>7,380,500</td>\n",
       "    </tr>\n",
       "    <tr>\n",
       "      <th>1</th>\n",
       "      <td>1/4/2012</td>\n",
       "      <td>331.27</td>\n",
       "      <td>333.87</td>\n",
       "      <td>329.08</td>\n",
       "      <td>666.45</td>\n",
       "      <td>5,749,400</td>\n",
       "    </tr>\n",
       "    <tr>\n",
       "      <th>2</th>\n",
       "      <td>1/5/2012</td>\n",
       "      <td>329.83</td>\n",
       "      <td>330.75</td>\n",
       "      <td>326.89</td>\n",
       "      <td>657.21</td>\n",
       "      <td>6,590,300</td>\n",
       "    </tr>\n",
       "    <tr>\n",
       "      <th>3</th>\n",
       "      <td>1/6/2012</td>\n",
       "      <td>328.34</td>\n",
       "      <td>328.77</td>\n",
       "      <td>323.68</td>\n",
       "      <td>648.24</td>\n",
       "      <td>5,405,900</td>\n",
       "    </tr>\n",
       "    <tr>\n",
       "      <th>4</th>\n",
       "      <td>1/9/2012</td>\n",
       "      <td>322.04</td>\n",
       "      <td>322.29</td>\n",
       "      <td>309.46</td>\n",
       "      <td>620.76</td>\n",
       "      <td>11,688,800</td>\n",
       "    </tr>\n",
       "  </tbody>\n",
       "</table>\n",
       "</div>"
      ],
      "text/plain": [
       "       Date    Open    High     Low   Close      Volume\n",
       "0  1/3/2012  325.25  332.83  324.97  663.59   7,380,500\n",
       "1  1/4/2012  331.27  333.87  329.08  666.45   5,749,400\n",
       "2  1/5/2012  329.83  330.75  326.89  657.21   6,590,300\n",
       "3  1/6/2012  328.34  328.77  323.68  648.24   5,405,900\n",
       "4  1/9/2012  322.04  322.29  309.46  620.76  11,688,800"
      ]
     },
     "execution_count": 3,
     "metadata": {},
     "output_type": "execute_result"
    }
   ],
   "source": [
    "dataset_train.head()"
   ]
  },
  {
   "cell_type": "markdown",
   "id": "fd0c2204",
   "metadata": {},
   "source": [
    "Open feature'sini kullanacağız ve bu feature borsanın açılış değerini ifade eder."
   ]
  },
  {
   "cell_type": "code",
   "execution_count": 4,
   "id": "45a9b0e9",
   "metadata": {},
   "outputs": [
    {
     "data": {
      "text/plain": [
       "array([[325.25],\n",
       "       [331.27],\n",
       "       [329.83],\n",
       "       ...,\n",
       "       [793.7 ],\n",
       "       [783.33],\n",
       "       [782.75]])"
      ]
     },
     "execution_count": 4,
     "metadata": {},
     "output_type": "execute_result"
    }
   ],
   "source": [
    "train = dataset_train.loc[:, [\"Open\"]].values\n",
    "train"
   ]
  },
  {
   "cell_type": "markdown",
   "id": "70f4c15b",
   "metadata": {},
   "source": [
    "values ile Open feature'sini array'e çevirdik.\n",
    "\n",
    "Şimdi feature scaling yapalım. Bu işlemi normalizasyon olarak nitelendirebiliriz."
   ]
  },
  {
   "cell_type": "code",
   "execution_count": 5,
   "id": "7e424142",
   "metadata": {},
   "outputs": [
    {
     "data": {
      "text/plain": [
       "array([[0.08581368],\n",
       "       [0.09701243],\n",
       "       [0.09433366],\n",
       "       ...,\n",
       "       [0.95725128],\n",
       "       [0.93796041],\n",
       "       [0.93688146]])"
      ]
     },
     "execution_count": 5,
     "metadata": {},
     "output_type": "execute_result"
    }
   ],
   "source": [
    "from sklearn.preprocessing import MinMaxScaler\n",
    "scaler = MinMaxScaler(feature_range = (0,1))\n",
    "train_scaled = scaler.fit_transform(train)\n",
    "train_scaled"
   ]
  },
  {
   "cell_type": "code",
   "execution_count": 6,
   "id": "a7504e3e",
   "metadata": {},
   "outputs": [
    {
     "data": {
      "image/png": "[encoded data removed]",
      "text/plain": [
       "<Figure size 432x288 with 1 Axes>"
      ]
     },
     "metadata": {
      "needs_background": "light"
     },
     "output_type": "display_data"
    }
   ],
   "source": [
    "plt.plot(train_scaled)\n",
    "plt.show()"
   ]
  },
  {
   "cell_type": "markdown",
   "id": "e845b8fd",
   "metadata": {},
   "source": [
    "Data yukarıda görüldüğü şekildedir."
   ]
  },
  {
   "cell_type": "markdown",
   "id": "1b07407a",
   "metadata": {},
   "source": [
    "Yukarıdaki kod bloğu ile array'deki değerler 0 ile 1 aralığına alınır."
   ]
  },
  {
   "cell_type": "code",
   "execution_count": 7,
   "id": "9b68d4d9",
   "metadata": {},
   "outputs": [],
   "source": [
    "x_train = []\n",
    "y_train = []\n",
    "timesteps = 50\n",
    "for i in range(timesteps, 1258):\n",
    "    x_train.append(train_scaled[i-timesteps:i, 0])\n",
    "    y_train.append(train_scaled[i,0])\n",
    "    \n",
    "x_train, y_train = np.array(x_train), np.array(y_train)"
   ]
  },
  {
   "cell_type": "markdown",
   "id": "c60ab0e8",
   "metadata": {},
   "source": [
    "Yukarıdaki kod bloğu ile train data'sı x ve y şeklinde ikiye ayrılmıştır. x inputlar'dır ve y ise tahmin edilecek değerlerdir.\n",
    "50 tane timesteps oluşturulmuştur. İlk 50 değer x_train içerisinde depolanır. Ve 51. değer y_train içerisine atanır. Bunun anlamı, 50 tane sample'a göre 51. predict edilir. Daha sonra tekrar sonraki 50 tane x_train'e ve bir sonraki değer y_train'e atanır.  \n",
    "\n",
    "x_train, y_train = np.array(x_train), np.array(y_train) satırında yapılanlar numpy array'e çevirme işlemidir.\n",
    "\n",
    "<br><br>\n",
    "<img src=\"r6.png\" style=\"width:400px;height:300px\"/>"
   ]
  },
  {
   "cell_type": "markdown",
   "id": "650f261e",
   "metadata": {},
   "source": [
    "Yukarıda 9 tane veriden oluşması ve timesteps değeri 3 olması durumunda x_train ve y_train'in nasıl ayrıldığına dair bir örnek bulunmaktadır. Yukarıda anlatılanlarda timesteps değeri farklı olması dışında aynı mantıktadır."
   ]
  },
  {
   "cell_type": "code",
   "execution_count": 8,
   "id": "57177e42",
   "metadata": {},
   "outputs": [
    {
     "data": {
      "text/plain": [
       "array([[0.08581368, 0.09701243, 0.09433366, ..., 0.03675869, 0.04486941,\n",
       "        0.05065481],\n",
       "       [0.09701243, 0.09433366, 0.09156187, ..., 0.04486941, 0.05065481,\n",
       "        0.05214302],\n",
       "       [0.09433366, 0.09156187, 0.07984225, ..., 0.05065481, 0.05214302,\n",
       "        0.05612397],\n",
       "       ...,\n",
       "       [0.9313937 , 0.94636878, 0.96569685, ..., 0.95475854, 0.95204256,\n",
       "        0.95163331],\n",
       "       [0.94636878, 0.96569685, 0.97510976, ..., 0.95204256, 0.95163331,\n",
       "        0.95725128],\n",
       "       [0.96569685, 0.97510976, 0.95966962, ..., 0.95163331, 0.95725128,\n",
       "        0.93796041]])"
      ]
     },
     "execution_count": 8,
     "metadata": {},
     "output_type": "execute_result"
    }
   ],
   "source": [
    "x_train"
   ]
  },
  {
   "cell_type": "code",
   "execution_count": 9,
   "id": "70ec106b",
   "metadata": {},
   "outputs": [
    {
     "data": {
      "text/plain": [
       "(1208, 50)"
      ]
     },
     "execution_count": 9,
     "metadata": {},
     "output_type": "execute_result"
    }
   ],
   "source": [
    "x_train.shape"
   ]
  },
  {
   "cell_type": "code",
   "execution_count": 10,
   "id": "7af1ba13",
   "metadata": {},
   "outputs": [
    {
     "data": {
      "text/plain": [
       "array([[[0.08581368],\n",
       "        [0.09701243],\n",
       "        [0.09433366],\n",
       "        ...,\n",
       "        [0.03675869],\n",
       "        [0.04486941],\n",
       "        [0.05065481]],\n",
       "\n",
       "       [[0.09701243],\n",
       "        [0.09433366],\n",
       "        [0.09156187],\n",
       "        ...,\n",
       "        [0.04486941],\n",
       "        [0.05065481],\n",
       "        [0.05214302]],\n",
       "\n",
       "       [[0.09433366],\n",
       "        [0.09156187],\n",
       "        [0.07984225],\n",
       "        ...,\n",
       "        [0.05065481],\n",
       "        [0.05214302],\n",
       "        [0.05612397]],\n",
       "\n",
       "       ...,\n",
       "\n",
       "       [[0.9313937 ],\n",
       "        [0.94636878],\n",
       "        [0.96569685],\n",
       "        ...,\n",
       "        [0.95475854],\n",
       "        [0.95204256],\n",
       "        [0.95163331]],\n",
       "\n",
       "       [[0.94636878],\n",
       "        [0.96569685],\n",
       "        [0.97510976],\n",
       "        ...,\n",
       "        [0.95204256],\n",
       "        [0.95163331],\n",
       "        [0.95725128]],\n",
       "\n",
       "       [[0.96569685],\n",
       "        [0.97510976],\n",
       "        [0.95966962],\n",
       "        ...,\n",
       "        [0.95163331],\n",
       "        [0.95725128],\n",
       "        [0.93796041]]])"
      ]
     },
     "execution_count": 10,
     "metadata": {},
     "output_type": "execute_result"
    }
   ],
   "source": [
    "#Reshaping\n",
    "x_train = np.reshape(x_train, (x_train.shape[0], x_train.shape[1], 1))\n",
    "x_train"
   ]
  },
  {
   "cell_type": "code",
   "execution_count": 11,
   "id": "383c577d",
   "metadata": {},
   "outputs": [
    {
     "data": {
      "text/plain": [
       "array([0.05214302, 0.05612397, 0.05818885, ..., 0.95725128, 0.93796041,\n",
       "       0.93688146])"
      ]
     },
     "execution_count": 11,
     "metadata": {},
     "output_type": "execute_result"
    }
   ],
   "source": [
    "y_train"
   ]
  },
  {
   "cell_type": "code",
   "execution_count": 12,
   "id": "0dd99e4a",
   "metadata": {},
   "outputs": [
    {
     "data": {
      "text/plain": [
       "(1208,)"
      ]
     },
     "execution_count": 12,
     "metadata": {},
     "output_type": "execute_result"
    }
   ],
   "source": [
    "y_train.shape"
   ]
  },
  {
   "cell_type": "markdown",
   "id": "6cf453fe",
   "metadata": {},
   "source": [
    "Böylelikle x_train ve y_train data'ları elde edilmiştir.\n",
    "\n",
    "## RNN Create Model"
   ]
  },
  {
   "cell_type": "markdown",
   "id": "8b0ad715",
   "metadata": {},
   "source": [
    "Şimdi bir model eğitip gelecek ile ilgili tahminler yapalım."
   ]
  },
  {
   "cell_type": "code",
   "execution_count": 13,
   "id": "04d5dcb6",
   "metadata": {},
   "outputs": [
    {
     "name": "stdout",
     "output_type": "stream",
     "text": [
      "Epoch 1/100\n",
      "38/38 [==============================] - 7s 39ms/step - loss: 0.3922\n",
      "Epoch 2/100\n",
      "38/38 [==============================] - 1s 39ms/step - loss: 0.2585\n",
      "Epoch 3/100\n",
      "38/38 [==============================] - 1s 38ms/step - loss: 0.1678\n",
      "Epoch 4/100\n",
      "38/38 [==============================] - 1s 35ms/step - loss: 0.1338\n",
      "Epoch 5/100\n",
      "38/38 [==============================] - 1s 34ms/step - loss: 0.0966\n",
      "Epoch 6/100\n",
      "38/38 [==============================] - 1s 34ms/step - loss: 0.0801\n",
      "Epoch 7/100\n",
      "38/38 [==============================] - 1s 34ms/step - loss: 0.0705\n",
      "Epoch 8/100\n",
      "38/38 [==============================] - 1s 37ms/step - loss: 0.0572\n",
      "Epoch 9/100\n",
      "38/38 [==============================] - 1s 39ms/step - loss: 0.0489\n",
      "Epoch 10/100\n",
      "38/38 [==============================] - 1s 39ms/step - loss: 0.0461\n",
      "Epoch 11/100\n",
      "38/38 [==============================] - 1s 39ms/step - loss: 0.0377\n",
      "Epoch 12/100\n",
      "38/38 [==============================] - 1s 37ms/step - loss: 0.0348\n",
      "Epoch 13/100\n",
      "38/38 [==============================] - 1s 32ms/step - loss: 0.0332\n",
      "Epoch 14/100\n",
      "38/38 [==============================] - 1s 32ms/step - loss: 0.0292\n",
      "Epoch 15/100\n",
      "38/38 [==============================] - 1s 30ms/step - loss: 0.0271\n",
      "Epoch 16/100\n",
      "38/38 [==============================] - 1s 32ms/step - loss: 0.0235\n",
      "Epoch 17/100\n",
      "38/38 [==============================] - 1s 30ms/step - loss: 0.0232\n",
      "Epoch 18/100\n",
      "38/38 [==============================] - 1s 32ms/step - loss: 0.0218\n",
      "Epoch 19/100\n",
      "38/38 [==============================] - 1s 32ms/step - loss: 0.0194\n",
      "Epoch 20/100\n",
      "38/38 [==============================] - 1s 30ms/step - loss: 0.0168\n",
      "Epoch 21/100\n",
      "38/38 [==============================] - 1s 28ms/step - loss: 0.0167\n",
      "Epoch 22/100\n",
      "38/38 [==============================] - 1s 39ms/step - loss: 0.0148\n",
      "Epoch 23/100\n",
      "38/38 [==============================] - 1s 36ms/step - loss: 0.0136\n",
      "Epoch 24/100\n",
      "38/38 [==============================] - 1s 35ms/step - loss: 0.0133\n",
      "Epoch 25/100\n",
      "38/38 [==============================] - 1s 39ms/step - loss: 0.0132\n",
      "Epoch 26/100\n",
      "38/38 [==============================] - 1s 35ms/step - loss: 0.0118\n",
      "Epoch 27/100\n",
      "38/38 [==============================] - 1s 38ms/step - loss: 0.0111\n",
      "Epoch 28/100\n",
      "38/38 [==============================] - 1s 36ms/step - loss: 0.0116\n",
      "Epoch 29/100\n",
      "38/38 [==============================] - 1s 37ms/step - loss: 0.0101\n",
      "Epoch 30/100\n",
      "38/38 [==============================] - 1s 35ms/step - loss: 0.0089\n",
      "Epoch 31/100\n",
      "38/38 [==============================] - 1s 35ms/step - loss: 0.0086\n",
      "Epoch 32/100\n",
      "38/38 [==============================] - 2s 42ms/step - loss: 0.0083\n",
      "Epoch 33/100\n",
      "38/38 [==============================] - 2s 41ms/step - loss: 0.0079\n",
      "Epoch 34/100\n",
      "38/38 [==============================] - 2s 41ms/step - loss: 0.0072\n",
      "Epoch 35/100\n",
      "38/38 [==============================] - 1s 39ms/step - loss: 0.0077\n",
      "Epoch 36/100\n",
      "38/38 [==============================] - 1s 34ms/step - loss: 0.0075\n",
      "Epoch 37/100\n",
      "38/38 [==============================] - 1s 34ms/step - loss: 0.0071\n",
      "Epoch 38/100\n",
      "38/38 [==============================] - 1s 33ms/step - loss: 0.0069\n",
      "Epoch 39/100\n",
      "38/38 [==============================] - 1s 32ms/step - loss: 0.0067\n",
      "Epoch 40/100\n",
      "38/38 [==============================] - 1s 37ms/step - loss: 0.0060\n",
      "Epoch 41/100\n",
      "38/38 [==============================] - 1s 34ms/step - loss: 0.0064\n",
      "Epoch 42/100\n",
      "38/38 [==============================] - 1s 35ms/step - loss: 0.0059\n",
      "Epoch 43/100\n",
      "38/38 [==============================] - 1s 28ms/step - loss: 0.0050\n",
      "Epoch 44/100\n",
      "38/38 [==============================] - 1s 33ms/step - loss: 0.0055\n",
      "Epoch 45/100\n",
      "38/38 [==============================] - 2s 40ms/step - loss: 0.0050\n",
      "Epoch 46/100\n",
      "38/38 [==============================] - 2s 40ms/step - loss: 0.0049\n",
      "Epoch 47/100\n",
      "38/38 [==============================] - 2s 47ms/step - loss: 0.0048\n",
      "Epoch 48/100\n",
      "38/38 [==============================] - 2s 44ms/step - loss: 0.0045\n",
      "Epoch 49/100\n",
      "38/38 [==============================] - 2s 43ms/step - loss: 0.0047\n",
      "Epoch 50/100\n",
      "38/38 [==============================] - 1s 32ms/step - loss: 0.0043\n",
      "Epoch 51/100\n",
      "38/38 [==============================] - 1s 34ms/step - loss: 0.0044\n",
      "Epoch 52/100\n",
      "38/38 [==============================] - 1s 32ms/step - loss: 0.0043\n",
      "Epoch 53/100\n",
      "38/38 [==============================] - 1s 38ms/step - loss: 0.0038\n",
      "Epoch 54/100\n",
      "38/38 [==============================] - 2s 41ms/step - loss: 0.0038\n",
      "Epoch 55/100\n",
      "38/38 [==============================] - 1s 27ms/step - loss: 0.0038\n",
      "Epoch 56/100\n",
      "38/38 [==============================] - 1s 23ms/step - loss: 0.0037\n",
      "Epoch 57/100\n",
      "38/38 [==============================] - 1s 34ms/step - loss: 0.0037\n",
      "Epoch 58/100\n",
      "38/38 [==============================] - 1s 38ms/step - loss: 0.0040\n",
      "Epoch 59/100\n",
      "38/38 [==============================] - 1s 36ms/step - loss: 0.0035\n",
      "Epoch 60/100\n",
      "38/38 [==============================] - 1s 36ms/step - loss: 0.0035\n",
      "Epoch 61/100\n",
      "38/38 [==============================] - 1s 36ms/step - loss: 0.0036\n",
      "Epoch 62/100\n",
      "38/38 [==============================] - 1s 36ms/step - loss: 0.0030\n",
      "Epoch 63/100\n",
      "38/38 [==============================] - 1s 34ms/step - loss: 0.0034\n",
      "Epoch 64/100\n",
      "38/38 [==============================] - 1s 34ms/step - loss: 0.0033\n",
      "Epoch 65/100\n",
      "38/38 [==============================] - 1s 39ms/step - loss: 0.0032\n",
      "Epoch 66/100\n",
      "38/38 [==============================] - 1s 36ms/step - loss: 0.0029\n",
      "Epoch 67/100\n",
      "38/38 [==============================] - 1s 34ms/step - loss: 0.0029\n",
      "Epoch 68/100\n",
      "38/38 [==============================] - 1s 26ms/step - loss: 0.0032\n",
      "Epoch 69/100\n",
      "38/38 [==============================] - 1s 31ms/step - loss: 0.0030\n",
      "Epoch 70/100\n",
      "38/38 [==============================] - 1s 32ms/step - loss: 0.0029\n",
      "Epoch 71/100\n",
      "38/38 [==============================] - 1s 34ms/step - loss: 0.0028\n",
      "Epoch 72/100\n",
      "38/38 [==============================] - 1s 33ms/step - loss: 0.0025\n",
      "Epoch 73/100\n",
      "38/38 [==============================] - 1s 29ms/step - loss: 0.0033\n",
      "Epoch 74/100\n",
      "38/38 [==============================] - 1s 35ms/step - loss: 0.0027\n",
      "Epoch 75/100\n",
      "38/38 [==============================] - 1s 37ms/step - loss: 0.0028\n",
      "Epoch 76/100\n",
      "38/38 [==============================] - 1s 34ms/step - loss: 0.0027\n",
      "Epoch 77/100\n",
      "38/38 [==============================] - 1s 33ms/step - loss: 0.0025\n",
      "Epoch 78/100\n",
      "38/38 [==============================] - 1s 33ms/step - loss: 0.0025\n",
      "Epoch 79/100\n",
      "38/38 [==============================] - 1s 33ms/step - loss: 0.0026\n",
      "Epoch 80/100\n",
      "38/38 [==============================] - 1s 33ms/step - loss: 0.0026\n",
      "Epoch 81/100\n",
      "38/38 [==============================] - 1s 36ms/step - loss: 0.0023\n",
      "Epoch 82/100\n",
      "38/38 [==============================] - 1s 38ms/step - loss: 0.0022\n",
      "Epoch 83/100\n",
      "38/38 [==============================] - 1s 36ms/step - loss: 0.0023\n",
      "Epoch 84/100\n",
      "38/38 [==============================] - 1s 34ms/step - loss: 0.0025\n",
      "Epoch 85/100\n",
      "38/38 [==============================] - 1s 37ms/step - loss: 0.0021\n",
      "Epoch 86/100\n",
      "38/38 [==============================] - 1s 37ms/step - loss: 0.0024\n",
      "Epoch 87/100\n",
      "38/38 [==============================] - 1s 35ms/step - loss: 0.0023\n",
      "Epoch 88/100\n",
      "38/38 [==============================] - 1s 32ms/step - loss: 0.0021\n",
      "Epoch 89/100\n",
      "38/38 [==============================] - 1s 33ms/step - loss: 0.0021\n",
      "Epoch 90/100\n",
      "38/38 [==============================] - 1s 32ms/step - loss: 0.0021\n",
      "Epoch 91/100\n",
      "38/38 [==============================] - 1s 29ms/step - loss: 0.0023\n",
      "Epoch 92/100\n",
      "38/38 [==============================] - 1s 30ms/step - loss: 0.0020\n",
      "Epoch 93/100\n",
      "38/38 [==============================] - 1s 28ms/step - loss: 0.0021\n",
      "Epoch 94/100\n",
      "38/38 [==============================] - 1s 31ms/step - loss: 0.0021\n",
      "Epoch 95/100\n",
      "38/38 [==============================] - 1s 33ms/step - loss: 0.0021\n",
      "Epoch 96/100\n",
      "38/38 [==============================] - 1s 37ms/step - loss: 0.0019\n",
      "Epoch 97/100\n",
      "38/38 [==============================] - 1s 36ms/step - loss: 0.0017\n",
      "Epoch 98/100\n",
      "38/38 [==============================] - 1s 34ms/step - loss: 0.0018\n",
      "Epoch 99/100\n",
      "38/38 [==============================] - 1s 34ms/step - loss: 0.0019\n",
      "Epoch 100/100\n",
      "38/38 [==============================] - 1s 34ms/step - loss: 0.0018\n"
     ]
    },
    {
     "data": {
      "text/plain": [
       "<keras.callbacks.History at 0x2207a3af490>"
      ]
     },
     "execution_count": 13,
     "metadata": {},
     "output_type": "execute_result"
    }
   ],
   "source": [
    "from keras.models import Sequential\n",
    "from keras.layers import Dense\n",
    "from keras.layers import SimpleRNN\n",
    "from keras.layers import Dropout\n",
    "\n",
    "#initialising the RNN\n",
    "regressor = Sequential()\n",
    "\n",
    "#adding the first RNN layer and some Dropout regularisation\n",
    "regressor.add(SimpleRNN(units=50, activation='tanh', return_sequences=True, input_shape=(x_train.shape[1],1)))\n",
    "regressor.add(Dropout(0.2))\n",
    "\n",
    "#adding a second RNN layer and some Dropout regularisation\n",
    "regressor.add(SimpleRNN(units=50, activation='tanh', return_sequences=True))\n",
    "regressor.add(Dropout(0.2))\n",
    "\n",
    "#adding a third RNN layer and some Dropout regularisation\n",
    "regressor.add(SimpleRNN(units=50, activation='tanh', return_sequences=True))\n",
    "regressor.add(Dropout(0.2))\n",
    "\n",
    "#adding a fourth RNN layer and some Dropout regularisation\n",
    "regressor.add(SimpleRNN(units=50))\n",
    "regressor.add(Dropout(0.2))\n",
    "\n",
    "#adding the output layer\n",
    "regressor.add(Dense(units=1))  #units=1 şeklinde 1 tane node eklenmiştir.\n",
    "\n",
    "#compiling the RNN\n",
    "regressor.compile(optimizer='adam', loss='mean_squared_error')\n",
    "\n",
    "#Fitting the RNN to the Training set\n",
    "regressor.fit(x_train, y_train, epochs=100, batch_size=32)\n"
   ]
  },
  {
   "cell_type": "markdown",
   "id": "035b5238",
   "metadata": {},
   "source": [
    "Sequential(): dense, simpleRNN, dropout gibi layer'ları içerisinde topladığımız bir neural network yapısıdır.\n",
    "\n",
    "Dense, layer'ları kullandığımız yapıdır.\n",
    "\n",
    "SimpleRNN yapısını kullanacağız.\n",
    "\n",
    "Dropout, overfitting'i engelleyen yapıdır.\n",
    "\n",
    "Oluşturulan ikinci katmanda input_shape belirtilmemiştir. Çünkü katmanlar birbirilerinin arkasına eklenen yapılar oldukları için bir önceki yapının output'u bir sonraki yapının input'u olacak. Dolayısıyla bir önceki yapının output'unun shape'si bilinmektedir."
   ]
  },
  {
   "cell_type": "markdown",
   "id": "d3c93b0a",
   "metadata": {},
   "source": [
    "## RNN Prediction and Visualization"
   ]
  },
  {
   "cell_type": "code",
   "execution_count": 14,
   "id": "187a3e17",
   "metadata": {},
   "outputs": [
    {
     "data": {
      "text/html": [
       "<div>\n",
       "<style scoped>\n",
       "    .dataframe tbody tr th:only-of-type {\n",
       "        vertical-align: middle;\n",
       "    }\n",
       "\n",
       "    .dataframe tbody tr th {\n",
       "        vertical-align: top;\n",
       "    }\n",
       "\n",
       "    .dataframe thead th {\n",
       "        text-align: right;\n",
       "    }\n",
       "</style>\n",
       "<table border=\"1\" class=\"dataframe\">\n",
       "  <thead>\n",
       "    <tr style=\"text-align: right;\">\n",
       "      <th></th>\n",
       "      <th>Date</th>\n",
       "      <th>Open</th>\n",
       "      <th>High</th>\n",
       "      <th>Low</th>\n",
       "      <th>Close</th>\n",
       "      <th>Volume</th>\n",
       "    </tr>\n",
       "  </thead>\n",
       "  <tbody>\n",
       "    <tr>\n",
       "      <th>0</th>\n",
       "      <td>1/3/2017</td>\n",
       "      <td>778.81</td>\n",
       "      <td>789.63</td>\n",
       "      <td>775.80</td>\n",
       "      <td>786.14</td>\n",
       "      <td>1,657,300</td>\n",
       "    </tr>\n",
       "    <tr>\n",
       "      <th>1</th>\n",
       "      <td>1/4/2017</td>\n",
       "      <td>788.36</td>\n",
       "      <td>791.34</td>\n",
       "      <td>783.16</td>\n",
       "      <td>786.90</td>\n",
       "      <td>1,073,000</td>\n",
       "    </tr>\n",
       "    <tr>\n",
       "      <th>2</th>\n",
       "      <td>1/5/2017</td>\n",
       "      <td>786.08</td>\n",
       "      <td>794.48</td>\n",
       "      <td>785.02</td>\n",
       "      <td>794.02</td>\n",
       "      <td>1,335,200</td>\n",
       "    </tr>\n",
       "    <tr>\n",
       "      <th>3</th>\n",
       "      <td>1/6/2017</td>\n",
       "      <td>795.26</td>\n",
       "      <td>807.90</td>\n",
       "      <td>792.20</td>\n",
       "      <td>806.15</td>\n",
       "      <td>1,640,200</td>\n",
       "    </tr>\n",
       "    <tr>\n",
       "      <th>4</th>\n",
       "      <td>1/9/2017</td>\n",
       "      <td>806.40</td>\n",
       "      <td>809.97</td>\n",
       "      <td>802.83</td>\n",
       "      <td>806.65</td>\n",
       "      <td>1,272,400</td>\n",
       "    </tr>\n",
       "  </tbody>\n",
       "</table>\n",
       "</div>"
      ],
      "text/plain": [
       "       Date    Open    High     Low   Close     Volume\n",
       "0  1/3/2017  778.81  789.63  775.80  786.14  1,657,300\n",
       "1  1/4/2017  788.36  791.34  783.16  786.90  1,073,000\n",
       "2  1/5/2017  786.08  794.48  785.02  794.02  1,335,200\n",
       "3  1/6/2017  795.26  807.90  792.20  806.15  1,640,200\n",
       "4  1/9/2017  806.40  809.97  802.83  806.65  1,272,400"
      ]
     },
     "execution_count": 14,
     "metadata": {},
     "output_type": "execute_result"
    }
   ],
   "source": [
    "dataset_test = pd.read_csv('Stock_Price_Test.csv')\n",
    "dataset_test.head()"
   ]
  },
  {
   "cell_type": "code",
   "execution_count": 15,
   "id": "fc416798",
   "metadata": {},
   "outputs": [
    {
     "data": {
      "text/plain": [
       "array([[778.81],\n",
       "       [788.36],\n",
       "       [786.08],\n",
       "       [795.26],\n",
       "       [806.4 ],\n",
       "       [807.86],\n",
       "       [805.  ],\n",
       "       [807.14],\n",
       "       [807.48],\n",
       "       [807.08],\n",
       "       [805.81],\n",
       "       [805.12],\n",
       "       [806.91],\n",
       "       [807.25],\n",
       "       [822.3 ],\n",
       "       [829.62],\n",
       "       [837.81],\n",
       "       [834.71],\n",
       "       [814.66],\n",
       "       [796.86]])"
      ]
     },
     "execution_count": 15,
     "metadata": {},
     "output_type": "execute_result"
    }
   ],
   "source": [
    "real_stock_price = dataset_test.loc[:,[\"Open\"]].values\n",
    "real_stock_price"
   ]
  },
  {
   "cell_type": "code",
   "execution_count": 16,
   "id": "fd0b326d",
   "metadata": {},
   "outputs": [
    {
     "data": {
      "text/plain": [
       "array([[0.97510976],\n",
       "       [0.95966962],\n",
       "       [0.97808617],\n",
       "       [1.        ],\n",
       "       [0.98076494],\n",
       "       [0.97083116],\n",
       "       [0.98450406],\n",
       "       [0.96054394],\n",
       "       [0.9371419 ],\n",
       "       [0.92841729],\n",
       "       [0.90804747],\n",
       "       [0.8771858 ],\n",
       "       [0.92153434],\n",
       "       [0.93809063],\n",
       "       [0.93165414],\n",
       "       [0.95254483],\n",
       "       [0.88812412],\n",
       "       [0.88637547],\n",
       "       [0.87032145],\n",
       "       [0.88563137],\n",
       "       [0.90743359],\n",
       "       [0.91571173],\n",
       "       [0.89941588],\n",
       "       [0.91805566],\n",
       "       [0.9089404 ],\n",
       "       [0.9024853 ],\n",
       "       [0.89456061],\n",
       "       [0.91600938],\n",
       "       [0.9132934 ],\n",
       "       [0.88979835],\n",
       "       [0.86589404],\n",
       "       [0.89030062],\n",
       "       [0.90335962],\n",
       "       [0.89642086],\n",
       "       [0.91777662],\n",
       "       [0.93176576],\n",
       "       [0.94114145],\n",
       "       [0.95762334],\n",
       "       [0.96413424],\n",
       "       [0.96402262],\n",
       "       [0.96971501],\n",
       "       [0.95077759],\n",
       "       [0.96294367],\n",
       "       [0.96123223],\n",
       "       [0.95475854],\n",
       "       [0.95204256],\n",
       "       [0.95163331],\n",
       "       [0.95725128],\n",
       "       [0.93796041],\n",
       "       [0.93688146],\n",
       "       [0.92955205],\n",
       "       [0.94731751],\n",
       "       [0.94307612],\n",
       "       [0.96015329],\n",
       "       [0.98087655],\n",
       "       [0.98359253],\n",
       "       [0.97827219],\n",
       "       [0.98225314],\n",
       "       [0.98288563],\n",
       "       [0.98214153],\n",
       "       [0.979779  ],\n",
       "       [0.97849542],\n",
       "       [0.98182528],\n",
       "       [0.98245777],\n",
       "       [1.01045465],\n",
       "       [1.02407173],\n",
       "       [1.03930724],\n",
       "       [1.03354044],\n",
       "       [0.99624228],\n",
       "       [0.9631297 ]])"
      ]
     },
     "execution_count": 16,
     "metadata": {},
     "output_type": "execute_result"
    }
   ],
   "source": [
    "dataset_total = pd.concat((dataset_train[\"Open\"], dataset_test[\"Open\"]), axis=0)\n",
    "inputs = dataset_total[len(dataset_total) - len(dataset_test) - timesteps:].values.reshape(-1,1)\n",
    "inputs = scaler.transform(inputs) # min max scaler\n",
    "inputs"
   ]
  },
  {
   "cell_type": "markdown",
   "id": "3487e571",
   "metadata": {},
   "source": [
    "Yukarıdaki kod bloğu ile yapılan, yeni data 0 ile 1 arasında değerlere scale edilmiştir.\n",
    "\n",
    "Şimdide test ve görselleştirme işlemleri yapalım."
   ]
  },
  {
   "cell_type": "code",
   "execution_count": 17,
   "id": "af92a3b3",
   "metadata": {},
   "outputs": [
    {
     "name": "stdout",
     "output_type": "stream",
     "text": [
      "1/1 [==============================] - 1s 737ms/step\n"
     ]
    },
    {
     "data": {
      "image/png": "[encoded data removed]",
      "text/plain": [
       "<Figure size 432x288 with 1 Axes>"
      ]
     },
     "metadata": {
      "needs_background": "light"
     },
     "output_type": "display_data"
    }
   ],
   "source": [
    "x_test = []\n",
    "for i in range(timesteps, 70):\n",
    "    x_test.append(inputs[i-timesteps:i, 0])\n",
    "    \n",
    "x_test = np.array(x_test)\n",
    "x_test = np.reshape(x_test, (x_test.shape[0], x_test.shape[1], 1))\n",
    "predicted_stock_price = regressor.predict(x_test)\n",
    "predict_stock_price = scaler.inverse_transform(predicted_stock_price)\n",
    "\n",
    "#visualizing the results\n",
    "plt.plot(real_stock_price, color='red', label='Real Google Stock Price')\n",
    "plt.plot(predicted_stock_price, color='blue', label='Predicted Google Stock Price')\n",
    "plt.xlabel('Time')\n",
    "plt.ylabel('Google Stock Price')\n",
    "plt.legend()\n",
    "plt.show()"
   ]
  },
  {
   "cell_type": "markdown",
   "id": "89743fff",
   "metadata": {},
   "source": [
    "predict edilen değerler, train ve test edilen değerler gibi 0 ile 1 arasında scale edilmiş değerlerdir. Bize gerçek değerler lazım olduğu için inverse_transform ile scale'nin tam tersi olarak normal sayılar verilir.\n",
    "\n",
    "Kırmızı çizgi test data'sındaki gerçek değerlerdir ve mavi çizgi RNN modelinin predict ettiği borsa değerleridir.\n",
    "\n",
    "Grafikte gördüğümüz üzere tahmin edilen değerler gerçek değerlere pekte yakın değildir. epoch değerini artırarak modelin biraz daha karmaşıklaşmasını sağlayabiliriz ve bu sayede tahmin değerleri gerçek değerlere dahada yaklaşacaktır. Fakat bunu yapmak yerine LSTM metodunu kullanarak daha iyi sonuçlar alabiliriz."
   ]
  },
  {
   "cell_type": "markdown",
   "id": "c41be6dd",
   "metadata": {},
   "source": [
    "## Long Short Term Memory (LSTM)"
   ]
  },
  {
   "cell_type": "markdown",
   "id": "957bba01",
   "metadata": {},
   "source": [
    "LSTM, RNN'in özelleşmiş bir yapısıdır. LSTM'de RNN'den farklı olarak long term memory vardır. RNN, çok uzak geçmişi memory'inde saklayamaz. RNN yakın geçmişi saklayabilir. LSTM'in ise uzun bir memory'i vardır ve bu memory ağında pek çok bilgi saklanabilir.\n",
    "\n",
    "<br><br>\n",
    "<img src=\"r7.png\" style=\"width:400px;height:300px\"/>"
   ]
  },
  {
   "cell_type": "markdown",
   "id": "d408243d",
   "metadata": {},
   "source": [
    "<font color=\"DeepPink\">\n",
    "LSTM Mimarisi:\n",
    "\n",
    "    🟢 x: scaling of information\n",
    "\n",
    "    🟢 +: Adding information\n",
    "\n",
    "    🟢 sigmoid layer. Sigmoid memory den bir şeyi hatırlamak için yada unutmak için kullanılır. 1 yada 0'dır.\n",
    "\n",
    "    🟢 tanh: activation function tanh. Tanh vanishing gradient(yavaş öğrenme - çok küçük gradient) problemini çözer. Çünkü parametreleri update ederken türev alıyorduk. Tanh'ın türevi hemen sıfır'a ulaşmaz.\n",
    "\n",
    "    🟢 h(t-1): output of LSTM unit\n",
    "\n",
    "    🟢 c(t-1): memory from previous LSTM unit\n",
    "\n",
    "    🟢 X(t): input\n",
    "\n",
    "    🟢 c(t): new updated memory\n",
    "\n",
    "    🟢 h(t): output\n",
    "\n",
    "    🟢 From c(t-1) to c(t) is memory pipeline. or only memory.\n",
    "\n",
    "    🟢 Oklar vektör.\n",
    "\n",
    "    🟢 h(t-1) ile X(t) birleşmiyor parallel iki yol olarak düşünebilirsiniz."
   ]
  },
  {
   "cell_type": "markdown",
   "id": "d40be93e",
   "metadata": {},
   "source": [
    "1 numaralı kısım: Forget gate: input olarak X(t) ve h(t-1) alır. Gelen bilginin unutulup unutulmayacağına karar verir.\n",
    "\n",
    "2 numaralı kısım: Input gate: Hangi bilginin memory de depolanıp depolanmayacağına karar verir.\n",
    "\n",
    "3 numaralı kısım: Output gate: Hangi bilginin output olup olmayacağına karar verir."
   ]
  },
  {
   "cell_type": "markdown",
   "id": "8b03786d",
   "metadata": {},
   "source": [
    "## Implementing LSTM with Keras"
   ]
  },
  {
   "cell_type": "markdown",
   "id": "b044916e",
   "metadata": {},
   "source": [
    "Uygulayacağımız adımlar sırasıyla şu şekildedir:\n",
    "    \n",
    "    Loading and Visualizing Data\n",
    "    \n",
    "    Preprocessing Data\n",
    "    \n",
    "    Create LSTM Model\n",
    "    \n",
    "    Predictions and Visualising LSTM Model"
   ]
  },
  {
   "cell_type": "markdown",
   "id": "b7ac387f",
   "metadata": {},
   "source": [
    "###  LSTM Loading and Visualizing Data"
   ]
  },
  {
   "cell_type": "code",
   "execution_count": 18,
   "id": "d911331d",
   "metadata": {},
   "outputs": [],
   "source": [
    "import numpy as np\n",
    "import pandas as pd\n",
    "import matplotlib.pyplot as plt\n",
    "import math\n",
    "from keras.models import Sequential\n",
    "from keras.layers import Dense\n",
    "from keras.layers import LSTM\n",
    "from sklearn.preprocessing import MinMaxScaler\n",
    "from sklearn.metrics import mean_squared_error  #loss function"
   ]
  },
  {
   "cell_type": "code",
   "execution_count": 19,
   "id": "f3aaf6b4",
   "metadata": {},
   "outputs": [
    {
     "data": {
      "text/html": [
       "<div>\n",
       "<style scoped>\n",
       "    .dataframe tbody tr th:only-of-type {\n",
       "        vertical-align: middle;\n",
       "    }\n",
       "\n",
       "    .dataframe tbody tr th {\n",
       "        vertical-align: top;\n",
       "    }\n",
       "\n",
       "    .dataframe thead th {\n",
       "        text-align: right;\n",
       "    }\n",
       "</style>\n",
       "<table border=\"1\" class=\"dataframe\">\n",
       "  <thead>\n",
       "    <tr style=\"text-align: right;\">\n",
       "      <th></th>\n",
       "      <th>Month</th>\n",
       "      <th>International airline passengers: monthly totals in thousands. Jan 49 ? Dec 60</th>\n",
       "    </tr>\n",
       "  </thead>\n",
       "  <tbody>\n",
       "    <tr>\n",
       "      <th>0</th>\n",
       "      <td>1949-01</td>\n",
       "      <td>112</td>\n",
       "    </tr>\n",
       "    <tr>\n",
       "      <th>1</th>\n",
       "      <td>1949-02</td>\n",
       "      <td>118</td>\n",
       "    </tr>\n",
       "    <tr>\n",
       "      <th>2</th>\n",
       "      <td>1949-03</td>\n",
       "      <td>132</td>\n",
       "    </tr>\n",
       "    <tr>\n",
       "      <th>3</th>\n",
       "      <td>1949-04</td>\n",
       "      <td>129</td>\n",
       "    </tr>\n",
       "    <tr>\n",
       "      <th>4</th>\n",
       "      <td>1949-05</td>\n",
       "      <td>121</td>\n",
       "    </tr>\n",
       "  </tbody>\n",
       "</table>\n",
       "</div>"
      ],
      "text/plain": [
       "     Month  \\\n",
       "0  1949-01   \n",
       "1  1949-02   \n",
       "2  1949-03   \n",
       "3  1949-04   \n",
       "4  1949-05   \n",
       "\n",
       "   International airline passengers: monthly totals in thousands. Jan 49 ? Dec 60  \n",
       "0                                                112                               \n",
       "1                                                118                               \n",
       "2                                                132                               \n",
       "3                                                129                               \n",
       "4                                                121                               "
      ]
     },
     "execution_count": 19,
     "metadata": {},
     "output_type": "execute_result"
    }
   ],
   "source": [
    "data = pd.read_csv(\"international-airline-passengers.csv\", skipfooter=5)\n",
    "data.head()"
   ]
  },
  {
   "cell_type": "markdown",
   "id": "6f269551",
   "metadata": {},
   "source": [
    "Data, havaalanındaki yolcu sayısı ile ilgilidir. Yıllara ve aylara göre belirlenmiş yolcu sayıları vardır. Bu data'yı görselleştireceğiz ve bununla ilgili LSTM modeli oluşturup tahminler yapacağız.\n",
    "\n",
    "Data'nın son 5 tane sample'ında sorun var o yüzden skipfooter=5 parametresi ile bu sample'ler dahil edilmemiştir.\n",
    "\n",
    "Çıktıya baktığımızda, 1949 yılının 1.ayında 112 tane kişi havalanından geçmiştir.\n",
    "\n",
    "Şimdi görselleştirme yapalım."
   ]
  },
  {
   "cell_type": "code",
   "execution_count": 20,
   "id": "b37f6c58",
   "metadata": {},
   "outputs": [
    {
     "data": {
      "image/png": "[encoded data removed]",
      "text/plain": [
       "<Figure size 432x288 with 1 Axes>"
      ]
     },
     "metadata": {
      "needs_background": "light"
     },
     "output_type": "display_data"
    }
   ],
   "source": [
    "dataset = data.iloc[:,1].values\n",
    "plt.plot(dataset)\n",
    "plt.xlabel(\"time\")\n",
    "plt.ylabel(\"Number of passenger\")\n",
    "plt.title(\"İnternational airline passenger\")\n",
    "plt.show()"
   ]
  },
  {
   "cell_type": "markdown",
   "id": "da488a69",
   "metadata": {},
   "source": [
    "## LSTM Preprocessing Data"
   ]
  },
  {
   "cell_type": "markdown",
   "id": "5ca292d3",
   "metadata": {},
   "source": [
    "Data'yı keras'ta kullanmak için hazırlayalım.\n",
    "\n",
    "Uygulanacak adımlar şu şekildedir:\n",
    "\n",
    "    🔵 reshape\n",
    "    \n",
    "    🔵 change type\n",
    "    \n",
    "    🔵 scaling\n",
    "    \n",
    "    🔵 train test split\n",
    "    \n",
    "    🔵 Create dataset"
   ]
  },
  {
   "cell_type": "code",
   "execution_count": 21,
   "id": "05742bc8",
   "metadata": {},
   "outputs": [
    {
     "data": {
      "text/plain": [
       "(142, 1)"
      ]
     },
     "execution_count": 21,
     "metadata": {},
     "output_type": "execute_result"
    }
   ],
   "source": [
    "dataset = dataset.reshape(-1,1)\n",
    "dataset = dataset.astype(\"float32\")\n",
    "dataset.shape"
   ]
  },
  {
   "cell_type": "markdown",
   "id": "5afd23b0",
   "metadata": {},
   "source": [
    "dataset.reshape(-1,1) işlemi yapılmazsa (142,) şeklinde shape bilgisi olurdu. (142,) ve (142,1) aynı ifadelerdir. Fakat virgülden sonra 1 değeri yazmadığında bazı metodlarda boyutu anlayamaması gibi sorunlar oluşabiliyor. Bu nedenle dataset.reshape(-1,1) satırı ile (142,) ifadesinden (142, 1) ifadesine çevrim sağlanıyor.\n",
    "\n",
    "dataset = dataset.astype(\"float32\") satırında dataset içerisindeki değerleri float32'ye çeviriyoruz."
   ]
  },
  {
   "cell_type": "code",
   "execution_count": 22,
   "id": "064b38ea",
   "metadata": {},
   "outputs": [],
   "source": [
    "#scaling\n",
    "scaler = MinMaxScaler(feature_range=(0,1))\n",
    "dataset = scaler.fit_transform(dataset)"
   ]
  },
  {
   "cell_type": "markdown",
   "id": "7a489740",
   "metadata": {},
   "source": [
    "Tüm neural network'lerde scaling işlemi yapılmalıdır. Scaling işlemi ile hız artırımı sağlanır ve network'ün daha iyi sonuçlar verebilmesi sağlanır."
   ]
  },
  {
   "cell_type": "code",
   "execution_count": 23,
   "id": "ca9ce2a6",
   "metadata": {},
   "outputs": [
    {
     "name": "stdout",
     "output_type": "stream",
     "text": [
      "train size: 71, test size: 71\n"
     ]
    }
   ],
   "source": [
    "train_size = int(len(dataset)*0.50)\n",
    "test_size = len(dataset) - train_size\n",
    "train = dataset[0:train_size,:]\n",
    "test = dataset[train_size:len(dataset),:]\n",
    "print(\"train size: {}, test size: {}\".format(len(train),len(test)))"
   ]
  },
  {
   "cell_type": "markdown",
   "id": "d3bd0915",
   "metadata": {},
   "source": [
    "Yukarıdaki blok ile dataset, train ve test setlerine ayrılmıştır. Data'nın %50'si ile train, %50'si ile test işlemleri gerçekleştirilecektir."
   ]
  },
  {
   "cell_type": "code",
   "execution_count": 24,
   "id": "a5ede6e1",
   "metadata": {},
   "outputs": [],
   "source": [
    "time_stemp = 10\n",
    "dataX = []\n",
    "dataY = []\n",
    "for i in range(len(train)-time_stemp-1):\n",
    "    a = train[i:(i+time_stemp),0]\n",
    "    dataX.append(a)\n",
    "    dataY.append(train[i + time_stemp, 0])\n",
    "    \n",
    "trainX = np.array(dataX)\n",
    "trainY = np.array(dataY)"
   ]
  },
  {
   "cell_type": "markdown",
   "id": "26168f81",
   "metadata": {},
   "source": [
    "RNN'de yaptığımız gibi time_stemp vardır. Çok fazla sample olmadığı için time_stemp'e 10 değerini atadık."
   ]
  },
  {
   "cell_type": "code",
   "execution_count": 25,
   "id": "19772b60",
   "metadata": {},
   "outputs": [],
   "source": [
    "dataX = []\n",
    "dataY = []\n",
    "for i in range(len(test)-time_stemp-1):\n",
    "    a = test[i: (i+time_stemp), 0]\n",
    "    dataX.append(a)\n",
    "    dataY.append(test[i + time_stemp, 0])\n",
    "\n",
    "testX = np.array(dataX)\n",
    "testY = np.array(dataY)"
   ]
  },
  {
   "cell_type": "code",
   "execution_count": 26,
   "id": "5dd1e8a6",
   "metadata": {},
   "outputs": [],
   "source": [
    "#reshape\n",
    "trainX = np.reshape(trainX, (trainX.shape[0], 1, trainX.shape[1]))\n",
    "testX = np.reshape(testX, (testX.shape[0], 1, testX.shape[1]))"
   ]
  },
  {
   "cell_type": "raw",
   "id": "9cbe48f8",
   "metadata": {},
   "source": [
    "trainX, trainY, testX, testY değişkenlerinde numpy array değeri tuttuğumuza dikkat edelim."
   ]
  },
  {
   "cell_type": "markdown",
   "id": "22000933",
   "metadata": {},
   "source": [
    "## LSTM Create Model"
   ]
  },
  {
   "cell_type": "code",
   "execution_count": 27,
   "id": "2ab80d16",
   "metadata": {},
   "outputs": [
    {
     "name": "stdout",
     "output_type": "stream",
     "text": [
      "Epoch 1/50\n",
      "60/60 [==============================] - 3s 2ms/step - loss: 0.0286\n",
      "Epoch 2/50\n",
      "60/60 [==============================] - 0s 2ms/step - loss: 0.0061\n",
      "Epoch 3/50\n",
      "60/60 [==============================] - 0s 2ms/step - loss: 0.0041\n",
      "Epoch 4/50\n",
      "60/60 [==============================] - 0s 2ms/step - loss: 0.0038\n",
      "Epoch 5/50\n",
      "60/60 [==============================] - 0s 2ms/step - loss: 0.0035\n",
      "Epoch 6/50\n",
      "60/60 [==============================] - 0s 2ms/step - loss: 0.0032\n",
      "Epoch 7/50\n",
      "60/60 [==============================] - 0s 2ms/step - loss: 0.0030\n",
      "Epoch 8/50\n",
      "60/60 [==============================] - 0s 2ms/step - loss: 0.0028\n",
      "Epoch 9/50\n",
      "60/60 [==============================] - 0s 2ms/step - loss: 0.0026\n",
      "Epoch 10/50\n",
      "60/60 [==============================] - 0s 2ms/step - loss: 0.0025\n",
      "Epoch 11/50\n",
      "60/60 [==============================] - 0s 5ms/step - loss: 0.0025\n",
      "Epoch 12/50\n",
      "60/60 [==============================] - 0s 2ms/step - loss: 0.0024\n",
      "Epoch 13/50\n",
      "60/60 [==============================] - 0s 2ms/step - loss: 0.0022\n",
      "Epoch 14/50\n",
      "60/60 [==============================] - 0s 2ms/step - loss: 0.0024\n",
      "Epoch 15/50\n",
      "60/60 [==============================] - 0s 2ms/step - loss: 0.0021\n",
      "Epoch 16/50\n",
      "60/60 [==============================] - 0s 2ms/step - loss: 0.0021\n",
      "Epoch 17/50\n",
      "60/60 [==============================] - 0s 2ms/step - loss: 0.0020\n",
      "Epoch 18/50\n",
      "60/60 [==============================] - 0s 3ms/step - loss: 0.0020\n",
      "Epoch 19/50\n",
      "60/60 [==============================] - 0s 2ms/step - loss: 0.0020\n",
      "Epoch 20/50\n",
      "60/60 [==============================] - 0s 3ms/step - loss: 0.0018\n",
      "Epoch 21/50\n",
      "60/60 [==============================] - 0s 2ms/step - loss: 0.0017\n",
      "Epoch 22/50\n",
      "60/60 [==============================] - 0s 2ms/step - loss: 0.0019\n",
      "Epoch 23/50\n",
      "60/60 [==============================] - 0s 2ms/step - loss: 0.0019\n",
      "Epoch 24/50\n",
      "60/60 [==============================] - 0s 2ms/step - loss: 0.0018\n",
      "Epoch 25/50\n",
      "60/60 [==============================] - 0s 2ms/step - loss: 0.0017\n",
      "Epoch 26/50\n",
      "60/60 [==============================] - 0s 2ms/step - loss: 0.0017\n",
      "Epoch 27/50\n",
      "60/60 [==============================] - 0s 2ms/step - loss: 0.0017\n",
      "Epoch 28/50\n",
      "60/60 [==============================] - 0s 2ms/step - loss: 0.0016\n",
      "Epoch 29/50\n",
      "60/60 [==============================] - 0s 2ms/step - loss: 0.0017\n",
      "Epoch 30/50\n",
      "60/60 [==============================] - 0s 2ms/step - loss: 0.0016\n",
      "Epoch 31/50\n",
      "60/60 [==============================] - 0s 2ms/step - loss: 0.0015\n",
      "Epoch 32/50\n",
      "60/60 [==============================] - 0s 2ms/step - loss: 0.0015\n",
      "Epoch 33/50\n",
      "60/60 [==============================] - 0s 2ms/step - loss: 0.0016\n",
      "Epoch 34/50\n",
      "60/60 [==============================] - 0s 2ms/step - loss: 0.0015\n",
      "Epoch 35/50\n",
      "60/60 [==============================] - 0s 2ms/step - loss: 0.0017\n",
      "Epoch 36/50\n",
      "60/60 [==============================] - 0s 2ms/step - loss: 0.0015\n",
      "Epoch 37/50\n",
      "60/60 [==============================] - 0s 2ms/step - loss: 0.0015\n",
      "Epoch 38/50\n",
      "60/60 [==============================] - 0s 3ms/step - loss: 0.0014\n",
      "Epoch 39/50\n",
      "60/60 [==============================] - 0s 2ms/step - loss: 0.0014\n",
      "Epoch 40/50\n",
      "60/60 [==============================] - 0s 2ms/step - loss: 0.0015\n",
      "Epoch 41/50\n",
      "60/60 [==============================] - 0s 1ms/step - loss: 0.0014\n",
      "Epoch 42/50\n",
      "60/60 [==============================] - 0s 2ms/step - loss: 0.0015\n",
      "Epoch 43/50\n",
      "60/60 [==============================] - 0s 2ms/step - loss: 0.0013\n",
      "Epoch 44/50\n",
      "60/60 [==============================] - 0s 2ms/step - loss: 0.0015\n",
      "Epoch 45/50\n",
      "60/60 [==============================] - 0s 2ms/step - loss: 0.0014\n",
      "Epoch 46/50\n",
      "60/60 [==============================] - 0s 2ms/step - loss: 0.0015\n",
      "Epoch 47/50\n",
      "60/60 [==============================] - 0s 2ms/step - loss: 0.0014\n",
      "Epoch 48/50\n",
      "60/60 [==============================] - 0s 2ms/step - loss: 0.0014\n",
      "Epoch 49/50\n",
      "60/60 [==============================] - 0s 2ms/step - loss: 0.0013\n",
      "Epoch 50/50\n",
      "60/60 [==============================] - 0s 1ms/step - loss: 0.0013\n"
     ]
    },
    {
     "data": {
      "text/plain": [
       "<keras.callbacks.History at 0x220007b6550>"
      ]
     },
     "execution_count": 27,
     "metadata": {},
     "output_type": "execute_result"
    }
   ],
   "source": [
    "#model\n",
    "model = Sequential()\n",
    "model.add(LSTM(10, input_shape=(1,time_stemp))) #10 LSTM neuron(block)\n",
    "model.add(Dense(1))\n",
    "model.compile(loss='mean_squared_error', optimizer='adam')\n",
    "model.fit(trainX, trainY, epochs=50, batch_size=1)"
   ]
  },
  {
   "cell_type": "markdown",
   "id": "65200407",
   "metadata": {},
   "source": [
    "Bir tane layer'da 10 tane LSTM unit olması sağlanmıştır.\n",
    "\n",
    "model.add(Dense(1)) satırı ile output eklenmiştir. Burada aktivasyon fonksiyonu belirtilmemiştir. Bu durumda bir nöronun değeri sadece girdilerin ve bias'ların ağırlıklı bir toplamı olacaktır. Bir etkinleştirme işlevi uygulamak, toplam hesaplandıktan sonra gerçekleşir, bu nedenle herhangi bir şey belirtmezseniz, basitçe böyle kalacaktır.\n",
    "\n",
    "## LSTM Prediction and Visualization"
   ]
  },
  {
   "cell_type": "code",
   "execution_count": 28,
   "id": "90880695",
   "metadata": {},
   "outputs": [
    {
     "name": "stdout",
     "output_type": "stream",
     "text": [
      "2/2 [==============================] - 1s 3ms/step\n",
      "2/2 [==============================] - 0s 2ms/step\n",
      "Train Score: 18.12 RMSE\n",
      "Test Score: 42.66 RMSE\n"
     ]
    }
   ],
   "source": [
    "trainPredict = model.predict(trainX)\n",
    "testPredict = model.predict(testX)\n",
    "# invert predictions\n",
    "trainPredict = scaler.inverse_transform(trainPredict)\n",
    "trainY = scaler.inverse_transform([trainY])\n",
    "testPredict = scaler.inverse_transform(testPredict)\n",
    "testY = scaler.inverse_transform([testY])\n",
    "# calculate root mean squared error\n",
    "trainScore = math.sqrt(mean_squared_error(trainY[0], trainPredict[:,0]))\n",
    "print('Train Score: %.2f RMSE' % (trainScore))\n",
    "testScore = math.sqrt(mean_squared_error(testY[0], testPredict[:,0]))\n",
    "print('Test Score: %.2f RMSE' % (testScore))"
   ]
  },
  {
   "cell_type": "markdown",
   "id": "005cc000",
   "metadata": {},
   "source": [
    "Hem test'i hem de train'i predict edip sonuçlarını görmek önemli olduğundan hem test'i hem de train'i predict etme işlemi yapılmıştır. \n",
    "\n",
    "trainPredict = scaler.inverse_transform(trainPredict) satırında bu predict edilen değerler orjinal hallerine çevrilmiştir. Yani 0 ile 1 arasına çekilen hallerinden, orjinal hallerine geçilmiştir."
   ]
  },
  {
   "cell_type": "code",
   "execution_count": 31,
   "id": "adb68f2c",
   "metadata": {},
   "outputs": [
    {
     "data": {
      "image/png": "[encoded data removed]",
      "text/plain": [
       "<Figure size 432x288 with 1 Axes>"
      ]
     },
     "metadata": {
      "needs_background": "light"
     },
     "output_type": "display_data"
    }
   ],
   "source": [
    "# shifting train\n",
    "trainPredictPlot = np.empty_like(dataset)\n",
    "trainPredictPlot[:, :] = np.nan\n",
    "trainPredictPlot[time_stemp:len(trainPredict)+time_stemp, :] = trainPredict\n",
    "# shifting test predictions for plotting\n",
    "testPredictPlot = np.empty_like(dataset)\n",
    "testPredictPlot[:, :] = np.nan\n",
    "testPredictPlot[len(trainPredict)+(time_stemp*2)+1:len(dataset)-1, :] = testPredict\n",
    "# plot baseline and predictions\n",
    "plt.plot(scaler.inverse_transform(dataset))\n",
    "plt.plot(trainPredictPlot)\n",
    "plt.plot(testPredictPlot)\n",
    "plt.show()"
   ]
  },
  {
   "cell_type": "markdown",
   "id": "542322b9",
   "metadata": {},
   "source": [
    "Mavi çizgi normal data'dır. Turuncu çizgi, train data'sında eğitilip bu data ile predict yapılan kısımdır. Yeşil kısım ise gelecekte yapılan yani test data'sı ile yapılan prediction'dur.\n",
    "\n",
    "Yukarıdaki görselden anlayabileceğimiz üzere azalıp artmalar RNN'e göre daha iyidir."
   ]
  }
 ],
 "metadata": {
  "kernelspec": {
   "display_name": "Python 3 (ipykernel)",
   "language": "python",
   "name": "python3"
  },
  "language_info": {
   "codemirror_mode": {
    "name": "ipython",
    "version": 3
   },
   "file_extension": ".py",
   "mimetype": "text/x-python",
   "name": "python",
   "nbconvert_exporter": "python",
   "pygments_lexer": "ipython3",
   "version": "3.9.12"
  }
 },
 "nbformat": 4,
 "nbformat_minor": 5
}

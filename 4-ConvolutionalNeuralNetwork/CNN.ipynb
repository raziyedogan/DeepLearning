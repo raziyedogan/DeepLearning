{
 "cells": [
  {
   "cell_type": "markdown",
   "id": "f007895a",
   "metadata": {},
   "source": [
    "## Convolutional Neural Network (CNN)"
   ]
  },
  {
   "cell_type": "markdown",
   "id": "28b7daf1",
   "metadata": {},
   "source": [
    "CNN ile resimleri sınıflandırmak için bir derin öğrenme yapılır.\n",
    "\n",
    "Kullanacağımız veri seti içeriğinde 0'dan 9'a kadar elle yazılan rakamlar bulunmaktadır."
   ]
  },
  {
   "cell_type": "code",
   "execution_count": 1,
   "id": "c53cf023",
   "metadata": {},
   "outputs": [],
   "source": [
    "import numpy as np # linear algebra\n",
    "import pandas as pd # data processing, CSV file I/O (e.g. pd.read_csv)\n",
    "import seaborn as sns\n",
    "import matplotlib.pyplot as plt\n",
    "# import warnings\n",
    "import warnings\n",
    "# filter warnings\n",
    "warnings.filterwarnings('ignore')"
   ]
  },
  {
   "cell_type": "code",
   "execution_count": 2,
   "id": "6cf64375",
   "metadata": {},
   "outputs": [
    {
     "name": "stdout",
     "output_type": "stream",
     "text": [
      "(42000, 785)\n"
     ]
    },
    {
     "data": {
      "text/html": [
       "<div>\n",
       "<style scoped>\n",
       "    .dataframe tbody tr th:only-of-type {\n",
       "        vertical-align: middle;\n",
       "    }\n",
       "\n",
       "    .dataframe tbody tr th {\n",
       "        vertical-align: top;\n",
       "    }\n",
       "\n",
       "    .dataframe thead th {\n",
       "        text-align: right;\n",
       "    }\n",
       "</style>\n",
       "<table border=\"1\" class=\"dataframe\">\n",
       "  <thead>\n",
       "    <tr style=\"text-align: right;\">\n",
       "      <th></th>\n",
       "      <th>label</th>\n",
       "      <th>pixel0</th>\n",
       "      <th>pixel1</th>\n",
       "      <th>pixel2</th>\n",
       "      <th>pixel3</th>\n",
       "      <th>pixel4</th>\n",
       "      <th>pixel5</th>\n",
       "      <th>pixel6</th>\n",
       "      <th>pixel7</th>\n",
       "      <th>pixel8</th>\n",
       "      <th>...</th>\n",
       "      <th>pixel774</th>\n",
       "      <th>pixel775</th>\n",
       "      <th>pixel776</th>\n",
       "      <th>pixel777</th>\n",
       "      <th>pixel778</th>\n",
       "      <th>pixel779</th>\n",
       "      <th>pixel780</th>\n",
       "      <th>pixel781</th>\n",
       "      <th>pixel782</th>\n",
       "      <th>pixel783</th>\n",
       "    </tr>\n",
       "  </thead>\n",
       "  <tbody>\n",
       "    <tr>\n",
       "      <th>0</th>\n",
       "      <td>1</td>\n",
       "      <td>0</td>\n",
       "      <td>0</td>\n",
       "      <td>0</td>\n",
       "      <td>0</td>\n",
       "      <td>0</td>\n",
       "      <td>0</td>\n",
       "      <td>0</td>\n",
       "      <td>0</td>\n",
       "      <td>0</td>\n",
       "      <td>...</td>\n",
       "      <td>0</td>\n",
       "      <td>0</td>\n",
       "      <td>0</td>\n",
       "      <td>0</td>\n",
       "      <td>0</td>\n",
       "      <td>0</td>\n",
       "      <td>0</td>\n",
       "      <td>0</td>\n",
       "      <td>0</td>\n",
       "      <td>0</td>\n",
       "    </tr>\n",
       "    <tr>\n",
       "      <th>1</th>\n",
       "      <td>0</td>\n",
       "      <td>0</td>\n",
       "      <td>0</td>\n",
       "      <td>0</td>\n",
       "      <td>0</td>\n",
       "      <td>0</td>\n",
       "      <td>0</td>\n",
       "      <td>0</td>\n",
       "      <td>0</td>\n",
       "      <td>0</td>\n",
       "      <td>...</td>\n",
       "      <td>0</td>\n",
       "      <td>0</td>\n",
       "      <td>0</td>\n",
       "      <td>0</td>\n",
       "      <td>0</td>\n",
       "      <td>0</td>\n",
       "      <td>0</td>\n",
       "      <td>0</td>\n",
       "      <td>0</td>\n",
       "      <td>0</td>\n",
       "    </tr>\n",
       "    <tr>\n",
       "      <th>2</th>\n",
       "      <td>1</td>\n",
       "      <td>0</td>\n",
       "      <td>0</td>\n",
       "      <td>0</td>\n",
       "      <td>0</td>\n",
       "      <td>0</td>\n",
       "      <td>0</td>\n",
       "      <td>0</td>\n",
       "      <td>0</td>\n",
       "      <td>0</td>\n",
       "      <td>...</td>\n",
       "      <td>0</td>\n",
       "      <td>0</td>\n",
       "      <td>0</td>\n",
       "      <td>0</td>\n",
       "      <td>0</td>\n",
       "      <td>0</td>\n",
       "      <td>0</td>\n",
       "      <td>0</td>\n",
       "      <td>0</td>\n",
       "      <td>0</td>\n",
       "    </tr>\n",
       "    <tr>\n",
       "      <th>3</th>\n",
       "      <td>4</td>\n",
       "      <td>0</td>\n",
       "      <td>0</td>\n",
       "      <td>0</td>\n",
       "      <td>0</td>\n",
       "      <td>0</td>\n",
       "      <td>0</td>\n",
       "      <td>0</td>\n",
       "      <td>0</td>\n",
       "      <td>0</td>\n",
       "      <td>...</td>\n",
       "      <td>0</td>\n",
       "      <td>0</td>\n",
       "      <td>0</td>\n",
       "      <td>0</td>\n",
       "      <td>0</td>\n",
       "      <td>0</td>\n",
       "      <td>0</td>\n",
       "      <td>0</td>\n",
       "      <td>0</td>\n",
       "      <td>0</td>\n",
       "    </tr>\n",
       "    <tr>\n",
       "      <th>4</th>\n",
       "      <td>0</td>\n",
       "      <td>0</td>\n",
       "      <td>0</td>\n",
       "      <td>0</td>\n",
       "      <td>0</td>\n",
       "      <td>0</td>\n",
       "      <td>0</td>\n",
       "      <td>0</td>\n",
       "      <td>0</td>\n",
       "      <td>0</td>\n",
       "      <td>...</td>\n",
       "      <td>0</td>\n",
       "      <td>0</td>\n",
       "      <td>0</td>\n",
       "      <td>0</td>\n",
       "      <td>0</td>\n",
       "      <td>0</td>\n",
       "      <td>0</td>\n",
       "      <td>0</td>\n",
       "      <td>0</td>\n",
       "      <td>0</td>\n",
       "    </tr>\n",
       "  </tbody>\n",
       "</table>\n",
       "<p>5 rows × 785 columns</p>\n",
       "</div>"
      ],
      "text/plain": [
       "   label  pixel0  pixel1  pixel2  pixel3  pixel4  pixel5  pixel6  pixel7  \\\n",
       "0      1       0       0       0       0       0       0       0       0   \n",
       "1      0       0       0       0       0       0       0       0       0   \n",
       "2      1       0       0       0       0       0       0       0       0   \n",
       "3      4       0       0       0       0       0       0       0       0   \n",
       "4      0       0       0       0       0       0       0       0       0   \n",
       "\n",
       "   pixel8  ...  pixel774  pixel775  pixel776  pixel777  pixel778  pixel779  \\\n",
       "0       0  ...         0         0         0         0         0         0   \n",
       "1       0  ...         0         0         0         0         0         0   \n",
       "2       0  ...         0         0         0         0         0         0   \n",
       "3       0  ...         0         0         0         0         0         0   \n",
       "4       0  ...         0         0         0         0         0         0   \n",
       "\n",
       "   pixel780  pixel781  pixel782  pixel783  \n",
       "0         0         0         0         0  \n",
       "1         0         0         0         0  \n",
       "2         0         0         0         0  \n",
       "3         0         0         0         0  \n",
       "4         0         0         0         0  \n",
       "\n",
       "[5 rows x 785 columns]"
      ]
     },
     "execution_count": 2,
     "metadata": {},
     "output_type": "execute_result"
    }
   ],
   "source": [
    "# read train \n",
    "train = pd.read_csv(\"train.csv\")\n",
    "print(train.shape)\n",
    "train.head()"
   ]
  },
  {
   "cell_type": "markdown",
   "id": "32bb471b",
   "metadata": {},
   "source": [
    "Çıktıyı inceleyelim shape mtodu çıktısından anladığımız üzere, train setinde 42000 tane resim ve 785 tane column vardır. 785 tane column'un 28x28=784 dir ve 784 tanesi piksel ve 1 taneside label 'dır.  Resimler 28x28'lik matristir.\n",
    "\n",
    "Label, resmin hangi class'a ait olduğunu ifade eder. \n",
    "\n",
    "label isimli feature'de resim üzerinde yazan sayı bilgileri bulunmaktadır. \n",
    "\n",
    "Bir resmin sayısal karşılığı pikseller ile ifade edilir. Renklerin matematikte bir karşılığı var ve bu karşılıklar pikseller ile ifade edilir.\n",
    "\n",
    "train setinde bir label sütunu var ve bu sütunda resmin üzerinde yazan sayı bilgisi vardır. train setinde birde o resme ait pikseller bulunmaktadır."
   ]
  },
  {
   "cell_type": "code",
   "execution_count": 3,
   "id": "727db4cc",
   "metadata": {},
   "outputs": [
    {
     "name": "stdout",
     "output_type": "stream",
     "text": [
      "(28000, 784)\n"
     ]
    },
    {
     "data": {
      "text/html": [
       "<div>\n",
       "<style scoped>\n",
       "    .dataframe tbody tr th:only-of-type {\n",
       "        vertical-align: middle;\n",
       "    }\n",
       "\n",
       "    .dataframe tbody tr th {\n",
       "        vertical-align: top;\n",
       "    }\n",
       "\n",
       "    .dataframe thead th {\n",
       "        text-align: right;\n",
       "    }\n",
       "</style>\n",
       "<table border=\"1\" class=\"dataframe\">\n",
       "  <thead>\n",
       "    <tr style=\"text-align: right;\">\n",
       "      <th></th>\n",
       "      <th>pixel0</th>\n",
       "      <th>pixel1</th>\n",
       "      <th>pixel2</th>\n",
       "      <th>pixel3</th>\n",
       "      <th>pixel4</th>\n",
       "      <th>pixel5</th>\n",
       "      <th>pixel6</th>\n",
       "      <th>pixel7</th>\n",
       "      <th>pixel8</th>\n",
       "      <th>pixel9</th>\n",
       "      <th>...</th>\n",
       "      <th>pixel774</th>\n",
       "      <th>pixel775</th>\n",
       "      <th>pixel776</th>\n",
       "      <th>pixel777</th>\n",
       "      <th>pixel778</th>\n",
       "      <th>pixel779</th>\n",
       "      <th>pixel780</th>\n",
       "      <th>pixel781</th>\n",
       "      <th>pixel782</th>\n",
       "      <th>pixel783</th>\n",
       "    </tr>\n",
       "  </thead>\n",
       "  <tbody>\n",
       "    <tr>\n",
       "      <th>0</th>\n",
       "      <td>0</td>\n",
       "      <td>0</td>\n",
       "      <td>0</td>\n",
       "      <td>0</td>\n",
       "      <td>0</td>\n",
       "      <td>0</td>\n",
       "      <td>0</td>\n",
       "      <td>0</td>\n",
       "      <td>0</td>\n",
       "      <td>0</td>\n",
       "      <td>...</td>\n",
       "      <td>0</td>\n",
       "      <td>0</td>\n",
       "      <td>0</td>\n",
       "      <td>0</td>\n",
       "      <td>0</td>\n",
       "      <td>0</td>\n",
       "      <td>0</td>\n",
       "      <td>0</td>\n",
       "      <td>0</td>\n",
       "      <td>0</td>\n",
       "    </tr>\n",
       "    <tr>\n",
       "      <th>1</th>\n",
       "      <td>0</td>\n",
       "      <td>0</td>\n",
       "      <td>0</td>\n",
       "      <td>0</td>\n",
       "      <td>0</td>\n",
       "      <td>0</td>\n",
       "      <td>0</td>\n",
       "      <td>0</td>\n",
       "      <td>0</td>\n",
       "      <td>0</td>\n",
       "      <td>...</td>\n",
       "      <td>0</td>\n",
       "      <td>0</td>\n",
       "      <td>0</td>\n",
       "      <td>0</td>\n",
       "      <td>0</td>\n",
       "      <td>0</td>\n",
       "      <td>0</td>\n",
       "      <td>0</td>\n",
       "      <td>0</td>\n",
       "      <td>0</td>\n",
       "    </tr>\n",
       "    <tr>\n",
       "      <th>2</th>\n",
       "      <td>0</td>\n",
       "      <td>0</td>\n",
       "      <td>0</td>\n",
       "      <td>0</td>\n",
       "      <td>0</td>\n",
       "      <td>0</td>\n",
       "      <td>0</td>\n",
       "      <td>0</td>\n",
       "      <td>0</td>\n",
       "      <td>0</td>\n",
       "      <td>...</td>\n",
       "      <td>0</td>\n",
       "      <td>0</td>\n",
       "      <td>0</td>\n",
       "      <td>0</td>\n",
       "      <td>0</td>\n",
       "      <td>0</td>\n",
       "      <td>0</td>\n",
       "      <td>0</td>\n",
       "      <td>0</td>\n",
       "      <td>0</td>\n",
       "    </tr>\n",
       "    <tr>\n",
       "      <th>3</th>\n",
       "      <td>0</td>\n",
       "      <td>0</td>\n",
       "      <td>0</td>\n",
       "      <td>0</td>\n",
       "      <td>0</td>\n",
       "      <td>0</td>\n",
       "      <td>0</td>\n",
       "      <td>0</td>\n",
       "      <td>0</td>\n",
       "      <td>0</td>\n",
       "      <td>...</td>\n",
       "      <td>0</td>\n",
       "      <td>0</td>\n",
       "      <td>0</td>\n",
       "      <td>0</td>\n",
       "      <td>0</td>\n",
       "      <td>0</td>\n",
       "      <td>0</td>\n",
       "      <td>0</td>\n",
       "      <td>0</td>\n",
       "      <td>0</td>\n",
       "    </tr>\n",
       "    <tr>\n",
       "      <th>4</th>\n",
       "      <td>0</td>\n",
       "      <td>0</td>\n",
       "      <td>0</td>\n",
       "      <td>0</td>\n",
       "      <td>0</td>\n",
       "      <td>0</td>\n",
       "      <td>0</td>\n",
       "      <td>0</td>\n",
       "      <td>0</td>\n",
       "      <td>0</td>\n",
       "      <td>...</td>\n",
       "      <td>0</td>\n",
       "      <td>0</td>\n",
       "      <td>0</td>\n",
       "      <td>0</td>\n",
       "      <td>0</td>\n",
       "      <td>0</td>\n",
       "      <td>0</td>\n",
       "      <td>0</td>\n",
       "      <td>0</td>\n",
       "      <td>0</td>\n",
       "    </tr>\n",
       "  </tbody>\n",
       "</table>\n",
       "<p>5 rows × 784 columns</p>\n",
       "</div>"
      ],
      "text/plain": [
       "   pixel0  pixel1  pixel2  pixel3  pixel4  pixel5  pixel6  pixel7  pixel8  \\\n",
       "0       0       0       0       0       0       0       0       0       0   \n",
       "1       0       0       0       0       0       0       0       0       0   \n",
       "2       0       0       0       0       0       0       0       0       0   \n",
       "3       0       0       0       0       0       0       0       0       0   \n",
       "4       0       0       0       0       0       0       0       0       0   \n",
       "\n",
       "   pixel9  ...  pixel774  pixel775  pixel776  pixel777  pixel778  pixel779  \\\n",
       "0       0  ...         0         0         0         0         0         0   \n",
       "1       0  ...         0         0         0         0         0         0   \n",
       "2       0  ...         0         0         0         0         0         0   \n",
       "3       0  ...         0         0         0         0         0         0   \n",
       "4       0  ...         0         0         0         0         0         0   \n",
       "\n",
       "   pixel780  pixel781  pixel782  pixel783  \n",
       "0         0         0         0         0  \n",
       "1         0         0         0         0  \n",
       "2         0         0         0         0  \n",
       "3         0         0         0         0  \n",
       "4         0         0         0         0  \n",
       "\n",
       "[5 rows x 784 columns]"
      ]
     },
     "execution_count": 3,
     "metadata": {},
     "output_type": "execute_result"
    }
   ],
   "source": [
    "# read test \n",
    "test= pd.read_csv(\"test.csv\")\n",
    "print(test.shape)\n",
    "test.head()"
   ]
  },
  {
   "cell_type": "markdown",
   "id": "1f66c728",
   "metadata": {},
   "source": [
    "test setinde 28000 tane resim vardır. Test setinde hiçbir label yoktur. Çünkü amaç zaten bu set ile test işlemi yapmaktır.\n",
    "\n",
    "Şimdi train setindeki label değerlerini ayıralım."
   ]
  },
  {
   "cell_type": "code",
   "execution_count": 4,
   "id": "e19be193",
   "metadata": {},
   "outputs": [],
   "source": [
    "# put labels into y_train variable\n",
    "Y_train = train[\"label\"]\n",
    "# Drop 'label' column\n",
    "X_train = train.drop(labels = [\"label\"],axis = 1) "
   ]
  },
  {
   "cell_type": "code",
   "execution_count": 5,
   "id": "bbb3f296",
   "metadata": {},
   "outputs": [
    {
     "data": {
      "text/plain": [
       "1    4684\n",
       "7    4401\n",
       "3    4351\n",
       "9    4188\n",
       "2    4177\n",
       "6    4137\n",
       "0    4132\n",
       "4    4072\n",
       "8    4063\n",
       "5    3795\n",
       "Name: label, dtype: int64"
      ]
     },
     "execution_count": 5,
     "metadata": {},
     "output_type": "execute_result"
    },
    {
     "data": {
      "image/png": "[encoded data removed]",
      "text/plain": [
       "<Figure size 1080x504 with 1 Axes>"
      ]
     },
     "metadata": {
      "needs_background": "light"
     },
     "output_type": "display_data"
    }
   ],
   "source": [
    "# visualize number of digits classes\n",
    "plt.figure(figsize=(15,7))\n",
    "sns.countplot(Y_train, palette=\"icefire\")\n",
    "plt.title(\"Number of digit classes\")\n",
    "Y_train.value_counts()"
   ]
  },
  {
   "cell_type": "markdown",
   "id": "147520cb",
   "metadata": {},
   "source": [
    "Şimdi data içerisinden rastgele seçtiğimiz resimleri çizdirelim."
   ]
  },
  {
   "cell_type": "code",
   "execution_count": 6,
   "id": "a167f19f",
   "metadata": {},
   "outputs": [
    {
     "data": {
      "image/png": "[encoded data removed]",
      "text/plain": [
       "<Figure size 432x288 with 1 Axes>"
      ]
     },
     "metadata": {
      "needs_background": "light"
     },
     "output_type": "display_data"
    }
   ],
   "source": [
    "# plot some samples\n",
    "img = [X_train.iloc[0]]\n",
    "img = np.reshape(img,(28,28))\n",
    "plt.imshow(img, cmap='gray')\n",
    "plt.title(train.iloc[0,0])\n",
    "plt.axis(\"off\")\n",
    "plt.show()"
   ]
  },
  {
   "cell_type": "markdown",
   "id": "a32fba2a",
   "metadata": {},
   "source": [
    "img = [X_train.iloc[0]]\n",
    "\n",
    "img = np.reshape(img,(28,28)) \n",
    "\n",
    "Bu satırlarda X_train'in 0. indeksindeki resim alınır ve matris haline getirilir.\n",
    "\n",
    "img = img.reshape((28,28)) satırında 28x28'lık bir matris haline getirilir. Yani resme ait pikseller 28x28'lik bir matris içerisindedir.\n",
    "\n",
    "plt.imshow(img, cmap='gray') satırında resmi temsil eden 28x28'lik matris parametre olarak verilmiştir ve ikinci parametre ile de resmin siyah beyaz görüntülenmesi sağlanmıştır.\n",
    "\n",
    "plt.title(train.iloc[0,0]) satırında hangi sayıyı çizdirdiysek o sayıyı başlık olarak belirtiyoruz."
   ]
  },
  {
   "cell_type": "code",
   "execution_count": 7,
   "id": "26fb278d",
   "metadata": {},
   "outputs": [
    {
     "data": {
      "image/png": "[encoded data removed]",
      "text/plain": [
       "<Figure size 432x288 with 1 Axes>"
      ]
     },
     "metadata": {
      "needs_background": "light"
     },
     "output_type": "display_data"
    }
   ],
   "source": [
    "# plot some samples\n",
    "img = [X_train.iloc[3]]\n",
    "img = np.reshape(img,(28,28))\n",
    "plt.imshow(img, cmap='gray')\n",
    "plt.title(train.iloc[3,0])\n",
    "plt.axis(\"off\")\n",
    "plt.show()"
   ]
  },
  {
   "cell_type": "markdown",
   "id": "8dec3417",
   "metadata": {},
   "source": [
    "## Normalization - Reshape - Label Encoding"
   ]
  },
  {
   "cell_type": "markdown",
   "id": "9659946e",
   "metadata": {},
   "source": [
    "Neden normalizasyon yapıyoruz?: Eğer normalizasyon yapmaz isek farklı renklerden kaynaklı hatalar oluşabilir. Bu yüzden öncelikle normalizasyon yapıyoruz. Her bir rengin sayısal bir karşılığı vardır ve normalizasyon ile tüm bu değerler 0-1 aralığına taşınır. \n",
    "\n",
    "Bir resmi normalize etmek demek, resmi gray sacle'ye çevirmek demektir. Gray scale, siyah, beyaz, açık gri, koyu gri gibi renklerden oluşan 0-1 aralığında değerlere sahip resimlerdir. \n",
    "\n",
    "Normalizasyon işlemi CNN'in çalışmasını hızlandırır.\n",
    "\n",
    "Resimler 28x28'liktir fakat 28x28x1 şeklinde 3D matrix yapmalıyız. Çünkü keras bu formatta çalışmaktadır. Keras'a 28x28 gibi 2 boyutlu resim verirsek keras onu anlamaz. 28x28x1 ifadesindeki 1, gray scale olduğu anlamına gelir. Eğer resim gray scale değilde renkli olsaydı 1 yerine rgb anlamına gelen 3 yazmalıydık.\n",
    "\n",
    "0'dan 9'a kadar 10 farklı class vardır. Label encoding yapmalıyız. Label encoding, 9 tane 0 ve 1 değerlerini içerebilen array düşünün. Sayı ne ise o sayıdaki indekse 1 yazılır. Örnek verelim:\n",
    "\n",
    "2 => [0,0,1,0,0,0,0,0,0,0]\n",
    "\n",
    "Görüldüğü üzere label 2 sayısı olduğu için 2.indekse 1 yazılmıştır.\n",
    "\n",
    "4 => [0,0,0,0,1,0,0,0,0,0]\n",
    "\n",
    "Görüldüğü üzere label 4 sayısı olduğu için 4.indekse 1 yazılmıştır.\n",
    "\n",
    "Bir resmin alabileceği maksimum matematiksel değer 255'tir dolayısıyla değerleri 255'e bölerek kabaca bir normalizasyon işlemi gerçekleştirebiliriz."
   ]
  },
  {
   "cell_type": "code",
   "execution_count": 8,
   "id": "ef6cc34f",
   "metadata": {},
   "outputs": [
    {
     "name": "stdout",
     "output_type": "stream",
     "text": [
      "x_train shape:  (42000, 784)\n",
      "test shape:  (28000, 784)\n"
     ]
    }
   ],
   "source": [
    "# Normalize the data\n",
    "\n",
    "X_train = X_train / 255.0\n",
    "\n",
    "test = test / 255.0\n",
    "\n",
    "print(\"x_train shape: \",X_train.shape)\n",
    "print(\"test shape: \",test.shape)"
   ]
  },
  {
   "cell_type": "code",
   "execution_count": 9,
   "id": "d84fd240",
   "metadata": {},
   "outputs": [
    {
     "name": "stdout",
     "output_type": "stream",
     "text": [
      "x_train shape:  (42000, 28, 28, 1)\n",
      "test shape:  (28000, 28, 28, 1)\n"
     ]
    }
   ],
   "source": [
    "# Reshape\n",
    "X_train = X_train.values.reshape(-1,28,28,1)\n",
    "test = test.values.reshape(-1,28,28,1)\n",
    "print(\"x_train shape: \",X_train.shape)\n",
    "print(\"test shape: \",test.shape)"
   ]
  },
  {
   "cell_type": "markdown",
   "id": "11853e30",
   "metadata": {},
   "source": [
    "reshape metodu ile 28,28,1 lik bir matrise çeviriyoruz. (42000, 28, 28, 1) çıktısı 4 boyutludur çünkü birde 42000 değeri ile kaç tane resim olduğu bilgisi bulunmaktadır.\n",
    "\n",
    "Keras label encoding işlemi için bir metod sağlar."
   ]
  },
  {
   "cell_type": "code",
   "execution_count": 10,
   "id": "66a34922",
   "metadata": {},
   "outputs": [],
   "source": [
    "# Label Encoding \n",
    "from keras.utils.np_utils import to_categorical # convert to one-hot-encoding\n",
    "Y_train = to_categorical(Y_train, num_classes = 10)"
   ]
  },
  {
   "cell_type": "markdown",
   "id": "e98148bb",
   "metadata": {},
   "source": [
    "Yukarıdaki kod bloğu ile Y_train'deki data'yı 2 => [0,0,1,0,0,0,0,0,0,0] formatına dönüştürüyoruz. Böylece label encoding işlemi gerçekleştirilmiştir."
   ]
  },
  {
   "cell_type": "markdown",
   "id": "fc552675",
   "metadata": {},
   "source": [
    "Şimdi data'yı train ve validation setlerine ayıralım."
   ]
  },
  {
   "cell_type": "code",
   "execution_count": 11,
   "id": "e39641f7",
   "metadata": {},
   "outputs": [
    {
     "name": "stdout",
     "output_type": "stream",
     "text": [
      "x_train shape (37800, 28, 28, 1)\n",
      "x_test shape (4200, 28, 28, 1)\n",
      "y_train shape (37800, 10)\n",
      "y_test shape (4200, 10)\n"
     ]
    }
   ],
   "source": [
    "# Split the train and the validation set for the fitting\n",
    "from sklearn.model_selection import train_test_split\n",
    "X_train, X_val, Y_train, Y_val = train_test_split(X_train, Y_train, test_size = 0.1, random_state=2)\n",
    "print(\"x_train shape\",X_train.shape)\n",
    "print(\"x_test shape\",X_val.shape)\n",
    "print(\"y_train shape\",Y_train.shape)\n",
    "print(\"y_test shape\",Y_val.shape)"
   ]
  },
  {
   "cell_type": "markdown",
   "id": "1edccaf2",
   "metadata": {},
   "source": [
    "train setleri ile model oluşturulur, validation setleri ile doğrulama yapılır ve en sonunda test ile gerçek testler yapılır. Test data'sı gerçek hayatta karşılaşabileceğimiz şeylerdir.\n",
    "\n",
    "Gerçek hayat problemlerinde veri seti train ve test şeklinde bölünür ve test seti bir kenarda model hazır olduktan sonra test işlemi için kullanılmak üzere bekler. train data'sı train ve validation setlerine bölünür. train seti ile model oluşturulur, validation ile model test edilir ve model hazır olur. Sonrasında kenarda beklettiğimiz test data'sı ile modelin testi yapılır. Biz daha öncesinde veri setini train ve test olarak bölüp validation setine yer vermiyorduk. Gerçek hayatta ise işlemler validation seti de olmak üzere anlattığım kurgu şeklinde gerçekleştirilir."
   ]
  },
  {
   "cell_type": "markdown",
   "id": "e5c04580",
   "metadata": {},
   "source": [
    "## Convolutional Neural Network (CNN)"
   ]
  },
  {
   "cell_type": "markdown",
   "id": "3de3346e",
   "metadata": {},
   "source": [
    "<br>\n",
    "<img src=\"c1.png\" style=\"width:880px;height:300px\"/>"
   ]
  },
  {
   "cell_type": "markdown",
   "id": "25cb2c75",
   "metadata": {},
   "source": [
    "Input resimde 5 yazmakta fakat biz konunun daha iyi anlaşılabilmesi için input resmini kedi resmi olarak düşünelim. Bir kediyi sınıflandırabilmek için kediyi köpekten ayırt eden bazı özelliklere ihtiyaç vardır. Mesela kulaklarının sivriliği, gözünün büyüklüğü, kuyruğunun kıvrımı  gibi özelliklerin ayırt edilmesi lazım. Tam bu noktada filtre kavramıyla tanışacağız.\n",
    "\n",
    "Filtre, bir resmin üzerine tutulduğu zaman o resimden belli şeyleri ayırt eden araçtır.\n",
    "\n",
    "\n",
    "Öyle bir filtre olmalı ki, bu filtreyi kedi resminin üzerine tuttuğumuzda kedinin az önce bahsettiğimiz gibi özelliklerini ayırt edebilmeli. Görselde gördüğünüz Convolution Layer, bu filtre kısmıdır. Convolution layer'da feature map'ler vardır.\n",
    "\n",
    "Pooling Layer katmanını açıklayalım. Pooling layer ile Convolution layer'ın yani bunu matrix olarak düşünebiliriz ve bu matrisin size'ı küçültülüyor. Kedinin kulağı elimizde mevcut. Ama koskoca bir kulağa ihtiyacımız yok. Mesela bu kulak 5x5'lik bir matristir. 5x5'lik matrisi tutmaktansa bu kulağın ortasındaki sayıyı tutuyoruz ya da maksimum sayısını tutuyoruz ve böylece bir kulak tek bir sayı ile ifade edilebilmiş oluyor. Bu durum hız sağlar.\n",
    "\n",
    "Bu durum sayesinde overfitting yani data'yı aşırı ezberleme durumu engellenmiş oluyor. \n",
    "\n",
    "Sonra görselde gördüğümüz üzere convolutional layer vardır yani bir tur daha convolutional yapılmıştır. Genellikle ne kadar çok convolutional layer var ise o kadar iyi sınıflandırma yapabiliriz. Ama bu durum tabiki her data için geçerli değildir. \n",
    "\n",
    "Daha sonra yine pooling layer yapılıyor. Sonrasında flatten işlemi yapılıyor. Flatten şu idi: Mesela 3x3'lük matrisi 9x1'lik bir vektör haline çevirmektir. Matrisi ucundan tutup çekmek gibi düşünebiliriz. Bu işlemin yapılma sebebi, bu kısımda artificial neural network kullanılacaktır.\n",
    "\n",
    "Görseldeki işlemler sırasıyla şu şekildedir: Filtreleme yapıldı (Convolution layer), eleme yapıldı ( Pooling layer), filtreleme yapıldı (Convolution layer), eleme yapıldı (Pooling layer) ve sonrasında artifical neural network kullanımına ihtiyaç var. Çünkü Dropout kısmında aslında feature'leri çıkarmış olduk. Kediyi sınıflandırmak için gerekli feature'leri çıkarıp flatten ettik yani düzleştirdik. Ve artificial neural network'te yaptığımız gibi flatten aşamasında belli inputlar var ve output ile sınıflandırma yapacağız.\n",
    "\n",
    "CNN'in temel mantığı bu şekildedir.\n",
    "\n",
    "Şimdi katmanları açıklayalım."
   ]
  },
  {
   "cell_type": "markdown",
   "id": "5d3aa17e",
   "metadata": {},
   "source": [
    "### Convolution layer"
   ]
  },
  {
   "cell_type": "markdown",
   "id": "bbfe670c",
   "metadata": {},
   "source": [
    "Bir resim ve 3x3 lük feature detector vardır.\n",
    "\n",
    "Feature detector, resmi ayırt etmemizi sağlayacak (mesela kedinin gözü, köpeğin kuyruğu) feature'leri detect etmeye yani bulmaya yarayan matrislerdir. Bu matrisin boyutu hyperparameter'dir. Yani değeri seçilmelidir.\n",
    "\n",
    "Feature detector, aynı zamanda kernel ve filtre olarakta adlandırılabilir. Filtre tabirini kullanmıştık. Bazı feature'ler vardıe. Bu feature'ler sınıfı classify etmeye yani ayırmaya yarıyor. Bu feature'leri kullanarak filtre yapacağız ve elimizde filtrelenmiş feature'ler olucak ve bu feature'leri kullanarak sınıflandırma yapacağız.\n",
    "\n",
    "<font color = \"DodgerBlue\"><br>\n",
    "Feature detector (filtre), kenarlar veya karmaşık şekiller gibi özellikleri algılar, tespit eder.\n",
    "\n",
    "Feature map şudur: Bir resim ve feature detector var. Feature detector ile convolution yapıyoruz ve ortaya çıkan yeni feature'lere feature map denir.\n",
    "\n",
    "<br>\n",
    "<img src=\"c2.png\" style=\"width:660px;height:300px\"/>"
   ]
  },
  {
   "cell_type": "markdown",
   "id": "f3dcf0eb",
   "metadata": {},
   "source": [
    "3x3 lük matris filtredir ve 7x7 lik matris resimdir. Filtre resim üzerine konumlanır ve üst üste denk gelen piksel değerleri çarpılır. Elde edilen tüm çarpım sonuçları toplanır ve elde edilen sonuç convolution feature'sidir."
   ]
  },
  {
   "cell_type": "markdown",
   "id": "735a4353",
   "metadata": {},
   "source": [
    "Stride, filtrenin resim üzerinde bir atlayarak kaymasıdır. O anki iterasyondaki üst üste binen tüm pikseller çarpılır ve tüm çarpımlar toplanarak sonuç matrisine elde edilen değer yazdırılır. Sonra filtre bir sağa kaydırılır ve oradaki üst üste binen tüm pikseller çarpılarak elde edilen sonuçlar toplanır. Yani stride filtrenin kayma adım sayısıdır. Stride=2 ise filtre 2 kutu sağa kayar.\n",
    "\n",
    "Convolution yaptıktan sonra feature map yani output matrisi daha küçük bir boyuta sahip olacaktır. Böylece hız kazanılır. Aynı zamanda matrisin boyutu küçültüldüğünden bazı bilgiler kaybedilmiştir.\n",
    "\n",
    "Köpeğin gözünü, kuyruğunu, kulağını vs. her bir özelliği farklı filtreler ile tespit edebiliriz. Dolayısıyla birden fazla feature map vardır.\n",
    "\n",
    "<br>\n",
    "<img src=\"c3.png\" style=\"width:700px;height:200px\"/>"
   ]
  },
  {
   "cell_type": "markdown",
   "id": "6bf81642",
   "metadata": {},
   "source": [
    "Relu bir aktivasyon fonksiyonudur. Relu, nonlinearity durumunu arttırır. Yani karmaşıklığı arttırır. Resimlerde karmaşık yapılar olduğu için Relu kullanmak nonlinearity'i arttırır.\n",
    "\n",
    "COnvolution layer ile bir feature map elde edilir ve sonra bu feature map'e Relu uygulanır. Böylece nonlinearity yani karmaşıklık artmış olur.\n",
    "\n",
    "Yukarıdaki görselde de görebileceğimiz üzere Relu şöyle bir aktivasyon fonksiyonudur: Relu'ya giren input 0'dan küçük ise sonuç 0 'dır, Relu'ya giren input 0'dan büyük ise sonuç input değerinin aynısıdır. "
   ]
  },
  {
   "cell_type": "markdown",
   "id": "db3c929a",
   "metadata": {},
   "source": [
    "## Same padding"
   ]
  },
  {
   "cell_type": "markdown",
   "id": "b7913003",
   "metadata": {},
   "source": [
    "Convolutional layer'dan sonra oluşan feature map'in boyutu orjinal resimden küçüktür. Yani bu durumda veri kaybedilmiş oluyor. Veri kaybetmeyi önlemek için sampe padding yöntemi vardır.\n",
    "\n",
    "Convolutional layer'dan sonra resim boyutu azalıyor. Bu durumda oluşan bilgi kaybını önlemek istiyoruz. Bu problemi önlemek için same padding kullanabiliriz. Same padding'ten farklı metodlarda vardır.\n",
    "\n",
    "Resme same padding uygularsak, elde edilen matrisin boyutu ile orjinal resmin boyutu aynıdır. Boyutta bir değişiklik olmamaktadır.\n",
    "\n",
    "<br>\n",
    "<img src=\"c4.png\" style=\"width:700px;height:200px\"/>"
   ]
  },
  {
   "cell_type": "markdown",
   "id": "cc3606eb",
   "metadata": {},
   "source": [
    "Convolutional layer'dayız. Sarı matris filtredir. Yeşil kısım bir resim. Yeşil alanın etrafına bir çerçeve çiziyoruz. Bu çerçeveyide 0 değerleri ile dolduruyoruz. Sarı matrisi yanındaki matris üserinde dolaştırıyoruz. Eğer 0'lar olmasaydı sadece yeşil kısmın üzerinde filtreyi dolaştırsaydık, 5x5 lik matris üzerinde 3x3 lük filtre dolaşırsa 3x3 lük bir output matrisi elde etmiş olacaktık ve resme ait bilgi kaybı olacaktı. Bunu önlemek için yeşil kısmın çevresine 0 değerleri ile dolu bir çerçeve koyuyoruz. Matrisin bu halinde filtreyi dolaştırdığımızda 5x5 lik bir matris elde edilir. Böylelikle bilgi kaybını en aza indirmiş olduk. \n",
    "\n",
    "Çok fazla convolutional layer kullanılabiliyor. Eğer her convolutional layer kullandığımızda input'tan daha küçük bir boyutta output elde edilirse en sonunda çok küçük boyutta bir sonuç elde ederiz. Bunu önlemek ve bilgi kaybını da önlemek için same padding yöntemini kullanabiliriz."
   ]
  },
  {
   "cell_type": "markdown",
   "id": "17bf8790",
   "metadata": {},
   "source": [
    "## Max Pooling"
   ]
  },
  {
   "cell_type": "markdown",
   "id": "e19bd3b8",
   "metadata": {},
   "source": [
    "<br>\n",
    "<img src=\"c5.png\" style=\"width:700px;height:200px\"/>"
   ]
  },
  {
   "cell_type": "markdown",
   "id": "1b51e37b",
   "metadata": {},
   "source": [
    "<font color=\"red\"><br>\n",
    "It makes down-sampling or sub-sampling (Reduces the number of parameters)\n",
    "\n",
    "Same padding ile bilgileri koruduk fakat yüksek boyut bir dezavantajdır çünkü yüksek boyut olması durumunda yavaş çalışma söz konusu olacaktır. Yavaş çalışma durumu istemediğiz bir durumdur dolayısıyla down-sampling uygularız. Bu max pooling'in yaptığı bir şeydir. Mesela resimlerde sağa bakan kedi, sola bakan kedi, yatan kedi gibi farklılıkların sınıflandırmayı etkilememesi için max pooling yapılır. \n",
    "\n",
    "Ayrıca overfitting durumunu engellemek içinde pooling yapıyoruz. \n",
    "\n",
    "Pooling işlemi şöyle yapılır:  \n",
    "\n",
    "Yukarıda gördüğünüz matristeki sayılar resmi ifade etmekte. Bu matrise 2x2 lik max pooling uygulayalım. 2x2 lik matrisi 6x6 lık matris üzerine koyuyoruz ve o alan içerisindeki maksimum değeri output'a yazıyoruz. Sonrasındaki 2x2 lik matrisi sağa kaydırıp aynı işlemleri gerçekleştiriyoruz."
   ]
  },
  {
   "cell_type": "markdown",
   "id": "3a18ef12",
   "metadata": {},
   "source": [
    "## Flattening"
   ]
  },
  {
   "cell_type": "markdown",
   "id": "5fa83dda",
   "metadata": {},
   "source": [
    "<br>\n",
    "<img src=\"c6.png\" style=\"width:500px;height:200px\"/>"
   ]
  },
  {
   "cell_type": "markdown",
   "id": "881c3657",
   "metadata": {},
   "source": [
    "Flattening yönteminin numpy kütüphanesinde metodu vardır. Matrisi uzatmak gibi düşünelim ve flattening işlemi sonucu vektör elde edilir.\n",
    "\n",
    "Artificial neural network'e input olarak flattening işleminde elde edilen sonuç verilir.\n",
    "\n",
    "Fully connected layer, artificial neural network olucak. Buranın input'uda flattening olucak."
   ]
  },
  {
   "cell_type": "markdown",
   "id": "8b635538",
   "metadata": {},
   "source": [
    "## Fully Connected"
   ]
  },
  {
   "cell_type": "markdown",
   "id": "bfcd5f8a",
   "metadata": {},
   "source": [
    "Fully connected, classification yaptığımız sigmoid aktivasyon fonksiyonunu içeren artificial neural network kısmıdır. \n",
    "\n",
    "<br>\n",
    "<img src=\"c7.png\" style=\"width:600px;height:200px\"/>"
   ]
  },
  {
   "cell_type": "markdown",
   "id": "4b6341ba",
   "metadata": {},
   "source": [
    "Fully Connected'ın bir tanımı var: Neural network'te her bir node'yi bir sonraki node'ye bağlamak zorunda değiliz. Fully Connected'da ise node'ler birbirlerine full bağlıdır. Yukarıdaki dizayn bildiğimiz artifial neural network'tür. "
   ]
  },
  {
   "cell_type": "markdown",
   "id": "797da49d",
   "metadata": {},
   "source": [
    "<br>\n",
    "<img src=\"c1.png\" style=\"width:880px;height:300px\"/>\n",
    "\n",
    "Birde feature map kavramını örnekle açıklamak istiyorum. Yukarıdaki görseli takip edelim. Resim convolution layer katmanından geçtikten sonra feature map'ler elde edilir. Feature map'ler küçük basit şekillerdir. Mesela bir kedi resmi için feature map, kedinin kuyruğunun uzun kenarı olabilir, kedinin kuyruğunun sivri ucu olabilir, kedinin kulağının sivri ucu olabilir. Çünkü ilk başta önemli feature'leri tespit edemiyoruz, yavaş yavaş daha derinlere iniyoruz. Sonrasında pooling layer'a gelindi. Pooling işlemi gerçekleştirildi. Sonrasında convolution layer'a gelindi. Pooling'ten çıkanlara convolution layer uygulandı ve bu sefer biraz daha ayrıntılı şeyler görülmeye başlandı. Mesela artık feature map'te kedinin tüm kuyruğu vardır. Böylelikle feature map'te öğrendiklerimiz giderek ayrıntılı hale gelmiştir. Sonrasında yeni feature map'lerede pooling yapıldı. Artık elimizde feature'ler var ve bu feature'ler ANN'e verilir. Sonrasında resmin kedi mi köpek mi olduğu outputta söylenir.\n",
    "\n",
    "Burada öğrenilen 2 şey vardır. Birincisi ANN'de öğrenilen weight ve bias değerleridir. Dİğeri ise convolution kısmında filtreler öğrenilmektedir."
   ]
  },
  {
   "cell_type": "markdown",
   "id": "a260a731",
   "metadata": {},
   "source": [
    "## CNN Implementing with Keras"
   ]
  },
  {
   "cell_type": "markdown",
   "id": "8e85a860",
   "metadata": {},
   "source": [
    "### Create Model"
   ]
  },
  {
   "cell_type": "markdown",
   "id": "53d05f45",
   "metadata": {},
   "source": [
    "<font color=\"DeepPink\"><br>\n",
    "Model şu şekilde olacaktır:\n",
    "<font color=\"DeepPink\"><br>\n",
    "conv => max pool => dropout => conv => max pool => dropout => fully connected (2 hidden layers)\n",
    "\n",
    "Dropout: Bir tane neural network vardır. Bir kez forward propagation yapılıyor. Forward propagation yaparken random bir şekilde seçtiğimiz nöronları devre dışı bırakıyoruz. Devre dışı bıraktığımızda diğer nöronlar ile bunlar arasında ir bağlantı kalmıyor.\n",
    "\n",
    "<br>\n",
    "<img src=\"c8.png\" style=\"width:580px;height:300px\"/>"
   ]
  },
  {
   "cell_type": "markdown",
   "id": "a23905c6",
   "metadata": {},
   "source": [
    "Yukarıda görüldüğü üzere neural net'te normal şartlar altında birbirine bağlı olan nöronlar, applying dropout'ta görüldüğü üzere nöron dropout metodu uygulanarak devre dışı bırakıldığı için artık nöronlar birbirlerine bağlı değillerdir.\n",
    "\n",
    "<font color=\"Tomato\"><br>\n",
    "Dropout metodu, nöronları devre dışı bırakma işlemidir. Nöronlar threshold değerine göre devre dışı bırakılır. Mesela threshold değeri 5 ise, 5 değerinin üstünde ise nöron devre dışı bırakılır, 5 sayısının altında ise devre dışı bırakılmaz. \n",
    "<font color=\"Tomato\"><br>\n",
    "Dropout metodu overfitting durumunu engellemek için, çeşitliliği artırmak için kullanışlı bşr metottur. "
   ]
  },
  {
   "cell_type": "code",
   "execution_count": 12,
   "id": "f88b3d84",
   "metadata": {},
   "outputs": [],
   "source": [
    "#keras kütüphanesine ait kullanacağımız metodlar:\n",
    "\n",
    "from sklearn.metrics import confusion_matrix\n",
    "import itertools\n",
    "\n",
    "from keras.utils.np_utils import to_categorical # convert to one-hot-encoding\n",
    "from keras.models import Sequential\n",
    "from keras.layers import Dense, Dropout, Flatten, Conv2D, MaxPool2D\n",
    "from keras.optimizers import RMSprop,Adam\n",
    "from keras.preprocessing.image import ImageDataGenerator\n",
    "from keras.callbacks import ReduceLROnPlateau"
   ]
  },
  {
   "cell_type": "code",
   "execution_count": 13,
   "id": "320ee24f",
   "metadata": {},
   "outputs": [],
   "source": [
    "model = Sequential()"
   ]
  },
  {
   "cell_type": "markdown",
   "id": "0d4b4cfa",
   "metadata": {},
   "source": [
    "Yukarıda bir model oluşturduk. Sequential() 'ı bir yapı, model oluşturmak olarak düşünün. Öyle bir yapı ki içerisinde layer'ları barındırmaktadır. Yani aslında \n",
    "\n",
    "<br>\n",
    "<img src=\"c1.png\" align=\"left\" style=\"width:600px;height:200px\"/>"
   ]
  },
  {
   "cell_type": "markdown",
   "id": "0236edca",
   "metadata": {},
   "source": [
    "Bu yapı modeldir. Bu yapının içerisine layer'ları sırasıyla ekleyeceğiz."
   ]
  },
  {
   "cell_type": "code",
   "execution_count": 14,
   "id": "bec8c37c",
   "metadata": {},
   "outputs": [],
   "source": [
    "model.add(Conv2D(filters = 8, kernel_size = (5,5),padding = 'Same', \n",
    "                 activation ='relu', input_shape = (28,28,1)))\n",
    "model.add(MaxPool2D(pool_size=(2,2)))\n",
    "model.add(Dropout(0.25))\n",
    "\n",
    "model.add(Conv2D(filters = 16, kernel_size = (3,3),padding = 'Same', \n",
    "                 activation ='relu'))\n",
    "model.add(MaxPool2D(pool_size=(2,2), strides=(2,2)))\n",
    "model.add(Dropout(0.25))\n",
    "\n",
    "# fully connected\n",
    "model.add(Flatten())\n",
    "model.add(Dense(256, activation = \"relu\"))\n",
    "model.add(Dropout(0.5))\n",
    "model.add(Dense(10, activation = \"softmax\"))"
   ]
  },
  {
   "cell_type": "markdown",
   "id": "3f40cd89",
   "metadata": {},
   "source": [
    "model.add(Conv2D(filters = 8, kernel_size = (5,5),padding = 'Same', \n",
    "                 activation ='relu', input_shape = (28,28,1)))\n",
    "    \n",
    "Bu satırda, filters parametresi ile feature tespiti yapan filtre sayısı belirlenir. Burada 8 seçilmesi sebebi, filtrenin az olması sağlanarak hız kazanılmasıdır. kernel_size = (5,5) ile filtrelerin boyutu belirlenir. 8 tane 5x5'lik filtre matrisi oluşturulmuştur. padding='Same' ile Same yönteminin kullanılması sağlanmıştır. Aktivasyon fonksiyonu olarak relu seçilmiştir. input 28x28'lik matrislerdir ve keras (28,28,1) şeklinde sonda 1 sayısını eklememizi ister. Bu 1 değeri gray scale olduğunu ifade eder.\n",
    "\n",
    "<font color=\"DeepPink\"><br>\n",
    "conv => max pool => dropout => conv => max pool => dropout => fully connected (2 hidden layers)\n",
    "    \n",
    "Modelimiz pembe sıralamadadır. Dolayısıyla sırada max pooling eklenmelidir. pool size 2x2 olarak belirlenmiştir.\n",
    "    \n",
    "model.add(Dropout(0.25))\n",
    "    \n",
    "Bu satırda random'luk 0.25 olarak belirlenmiştir. %25 node'yi deactivate et ya da etme demektir. Sonrasında tekrar convolution layer oluşturuluyor. Burada input_shape belirlemeye gerek yoktur. Çünkü katmanlar birbiri arkasına ekli oldukları için artık \n",
    "    \n",
    "    model.add(Conv2D(filters = 16, kernel_size = (3,3),padding = 'Same', \n",
    "                 activation ='relu')) \n",
    " \n",
    "bu satırdaki convolution bir önceki gelen inputu biliyor. İlk convolution layer'ın önünde bir model olmadığı için başlangıç input_shape değerinin verilmesi gerekmektedir.\n",
    "    \n",
    "model.add(MaxPool2D(pool_size=(2,2), strides=(2,2)))\n",
    "    \n",
    "Bu satırda, strides=(2,2) parametresi pooling'i ya da convolution'u gezdirirken kaç basamak atlayarak gezeceğimizin bilgisini tutar. Burada 2 basamak atlanarak hareket edilmektedir.\n",
    "    \n",
    "Sonrasında fully connected layer'dayız. fully connected yaparken öncelikle flatten yapacağız ve daha sonrada layer'ları ekleyeceğiz. \n",
    "    \n",
    "model.add(Flatten()) satırı ile flatten işlemi yapılmıştır.\n",
    "    \n",
    "model.add(Dense(256, activation = \"relu\")) satırında aktivasyon fonksiyonu relu olan bir tane hidden layer eklenmektedir.\n",
    "    \n",
    "model.add(Dense(10, activation = \"softmax\")) satırında bir tanede output değeri eklenmiştir.\n",
    "    \n",
    "Yani toplamda 2 tane layer eklenmiştir. Burada softmax fonksiyonu kullanılmıştır. Bunun sebebi, softmax'in sigmoid'in daha genelleştirilmiş hali olmasıdır. Sigmoid'de 2 tane yani binary classification için kullanıyorduk. Softmax'i ise binary değilde multi output classification için kullanabiliriz.\n",
    "  \n",
    "<font color=\"LimeGreen\"><br>\n",
    "Yani binary fazla sınıflandırma söz konusu ise sigmoid, 2'den daha fazla sayıda class'ı sınıflandırma söz konusu ise softmax kullanılabilir.\n",
    "    \n",
    "Böylece model yapısı oluşturulmuştur. Bu modele bir şeyler öğretmek istiyoruz ve bu işlemi optimizer ile gerçekleştirebiliriz. "
   ]
  },
  {
   "cell_type": "markdown",
   "id": "e3573ff8",
   "metadata": {},
   "source": [
    "## Adam Optimizer"
   ]
  },
  {
   "cell_type": "markdown",
   "id": "82daecaf",
   "metadata": {},
   "source": [
    "Learning rate normal şartlar altında sabittir. Adam optimizer'ı kullanırsak learning rate'i değiştirebiliriz."
   ]
  },
  {
   "cell_type": "code",
   "execution_count": 15,
   "id": "54fcd0dd",
   "metadata": {},
   "outputs": [],
   "source": [
    "# Define the optimizer\n",
    "optimizer = Adam(lr=0.001, beta_1=0.9, beta_2=0.999)"
   ]
  },
  {
   "cell_type": "markdown",
   "id": "b150bd02",
   "metadata": {},
   "source": [
    "beta_1 ve beta_2 learning rate'in değişimini etkileyen parametrelerdir. Adam optimizer, learning rate'i değiştirerek daha hızlı öğrenmeyi sağlıyor. Eğer learning rate değeri küçük ise ve cost'u minimum yapacak parametrelere hızlı bir şekilde gidilemiyorsa learning rate'i adam optimizer artırıyor. Eğer tam tersi ise yani çok hızlı gidiliyorsa learning rate'i azaltır. Adam optimizer, bu şekilde bir ayarlama yapar."
   ]
  },
  {
   "cell_type": "markdown",
   "id": "28c708f1",
   "metadata": {},
   "source": [
    "## Compiler"
   ]
  },
  {
   "cell_type": "markdown",
   "id": "d828561d",
   "metadata": {},
   "source": [
    "Burada modeli compiler edicez. Yani parçaları birleştireceğiz. Ama bundan önce loss fonksiyonu hatırlayalım."
   ]
  },
  {
   "cell_type": "markdown",
   "id": "8bf52717",
   "metadata": {},
   "source": [
    "Loss function, artificial neural network'ten bildiğimiz bir hata oranıdır. Hata çok ise wegiht'ler update edilir. Bu işlem hata minimum noktaya inene kadar yapılır.\n",
    "\n",
    "categorical crossentropy kullanacağız. categorical crossentropy'in binary cross entropy'den farkı, binary'de class 2 tanedir ve categorical'da 2'den fazladır.\n",
    "\n",
    "<br>\n",
    "<img src=\"c9.png\" style=\"width:600px;height:100px\"/>"
   ]
  },
  {
   "cell_type": "markdown",
   "id": "851202cb",
   "metadata": {},
   "source": [
    "Yukarıdaki formül sonucunda elde edilen bilgi, eğer doğru predict edildiyse hata 0, eğer yanlış predict edildiyse hata yüksektir.\n",
    "\n",
    "Şimdi modele compile kısmını ekleyelim."
   ]
  },
  {
   "cell_type": "code",
   "execution_count": 16,
   "id": "2d18cc8d",
   "metadata": {},
   "outputs": [],
   "source": [
    "# Compile the model\n",
    "model.compile(optimizer = optimizer , loss = \"categorical_crossentropy\", metrics=[\"accuracy\"])"
   ]
  },
  {
   "cell_type": "markdown",
   "id": "b2c65f74",
   "metadata": {},
   "source": [
    "optimizer'ı, loss function'u ve metrics'i parametre olarak belirledik. Elde edilen sonuç accuracy'e göre değerlendirilecektir."
   ]
  },
  {
   "cell_type": "markdown",
   "id": "3f11d498",
   "metadata": {},
   "source": [
    "## Epochs and Batch Size"
   ]
  },
  {
   "cell_type": "markdown",
   "id": "c70e1795",
   "metadata": {},
   "source": [
    "Veri setinde 10 tane resim olduğunu düşünelim. batch size değerini 2 olarak belirledik. Her seferinde forward ve backward propagation yapıyorduk ve bunun yerine bu işlemleri her seferinde 2 resimle yapacağız. 2 resimle forward, 2 resimle backward yapılır. İlk adımdan sonra 8 resim kalır. Yani 10/2=5 kez forward-backward işlemi yapılır. Dolayısıyla 5 kez batches yapmış oluyoruz. Bir tane batch yapmak için gerekli olan size 2'dir. Her bir batch'de 2 kez yapılıyorsa ve 10 tane resim var ise, 5 kez batch yapılmış olur. 10 tane resmi 5 kez batches yaptığımızda hepsini forward ve backward propagation yapmış oluyoruz ve  buda 1 epoch olarak adlandırılır. Yani her epoch'da 5 kez batches yapılmaktadır.\n",
    "\n",
    "Mesela 3 tane epoch yapmak istersek 3x5=15 kez batch yapılır. "
   ]
  },
  {
   "cell_type": "code",
   "execution_count": 17,
   "id": "1f2eab9a",
   "metadata": {},
   "outputs": [],
   "source": [
    "epochs = 10 \n",
    "batch_size = 250"
   ]
  },
  {
   "cell_type": "markdown",
   "id": "12c8feae",
   "metadata": {},
   "source": [
    "## Data Augmentation"
   ]
  },
  {
   "cell_type": "markdown",
   "id": "dbc96d64",
   "metadata": {},
   "source": [
    "Overfitting'i önlemek için farklı boyuttaki, farklı rotasyondaki, farklı veri setlerini kedni veri setimize eklememiz lazım. Bu yüzden training data'sında küçük değişiklikler yapıyoruz ve bu değişiklikler sayesinde gerçek resmimize benzeyen resimler üretiyoruz. Aşağıdaki şekilde görüldüğü gibi resme zoom yapıyoruz, yan çeviriyoruz vs. \n",
    "\n",
    "<br>\n",
    "<img src=\"c10.png\" style=\"width:600px;height:300px\"/>"
   ]
  },
  {
   "cell_type": "markdown",
   "id": "ec6a5c2e",
   "metadata": {},
   "source": [
    "Yukarıdaki şekilde görüldüğü gibi farklı farklı küçük değişiklikler yaparak overfitting önlenebilir ve 6 yazısının farklı halleri sayesinde syaının 6 olduğu anlaşılabilir.\n",
    "\n",
    "Şimdi bu işlemi gerçekleştiren metodu yazalım."
   ]
  },
  {
   "cell_type": "code",
   "execution_count": 18,
   "id": "a8ca77f4",
   "metadata": {},
   "outputs": [],
   "source": [
    "# data augmentation\n",
    "datagen = ImageDataGenerator(\n",
    "        featurewise_center=False,  # set input mean to 0 over the dataset\n",
    "        samplewise_center=False,  # set each sample mean to 0\n",
    "        featurewise_std_normalization=False,  # divide inputs by std of the dataset\n",
    "        samplewise_std_normalization=False,  # divide each input by its std\n",
    "        zca_whitening=False,  # dimesion reduction\n",
    "        rotation_range=5,  # randomly rotate images in the range 5 degrees\n",
    "        zoom_range = 0.1, # Randomly zoom image 10%\n",
    "        width_shift_range=0.1,  # randomly shift images horizontally 10%\n",
    "        height_shift_range=0.1,  # randomly shift images vertically 10%\n",
    "        horizontal_flip=False,  # randomly flip images\n",
    "        vertical_flip=False)  # randomly flip images\n",
    "\n",
    "datagen.fit(X_train)"
   ]
  },
  {
   "cell_type": "markdown",
   "id": "c15d56b7",
   "metadata": {},
   "source": [
    "## Fit the Model"
   ]
  },
  {
   "cell_type": "markdown",
   "id": "e9ff3dbd",
   "metadata": {},
   "source": [
    "Artık modeli fit edebiliriz. Yani artık modeli oluşturup train edebiliriz."
   ]
  },
  {
   "cell_type": "code",
   "execution_count": 19,
   "id": "a2b97619",
   "metadata": {},
   "outputs": [
    {
     "name": "stdout",
     "output_type": "stream",
     "text": [
      "Epoch 1/10\n",
      "151/151 [==============================] - 39s 247ms/step - loss: 1.1658 - accuracy: 0.6081 - val_loss: 0.2750 - val_accuracy: 0.9345\n",
      "Epoch 2/10\n",
      "151/151 [==============================] - 35s 230ms/step - loss: 0.4777 - accuracy: 0.8498 - val_loss: 0.1420 - val_accuracy: 0.9593\n",
      "Epoch 3/10\n",
      "151/151 [==============================] - 35s 232ms/step - loss: 0.3453 - accuracy: 0.8907 - val_loss: 0.1096 - val_accuracy: 0.9660\n",
      "Epoch 4/10\n",
      "151/151 [==============================] - 35s 230ms/step - loss: 0.2854 - accuracy: 0.9103 - val_loss: 0.0985 - val_accuracy: 0.9707\n",
      "Epoch 5/10\n",
      "151/151 [==============================] - 35s 229ms/step - loss: 0.2497 - accuracy: 0.9214 - val_loss: 0.0862 - val_accuracy: 0.9740\n",
      "Epoch 6/10\n",
      "151/151 [==============================] - 36s 235ms/step - loss: 0.2231 - accuracy: 0.9316 - val_loss: 0.0747 - val_accuracy: 0.9779\n",
      "Epoch 7/10\n",
      "151/151 [==============================] - 36s 238ms/step - loss: 0.2062 - accuracy: 0.9359 - val_loss: 0.0698 - val_accuracy: 0.9814\n",
      "Epoch 8/10\n",
      "151/151 [==============================] - 35s 230ms/step - loss: 0.1937 - accuracy: 0.9413 - val_loss: 0.0635 - val_accuracy: 0.9821\n",
      "Epoch 9/10\n",
      "151/151 [==============================] - 33s 221ms/step - loss: 0.1834 - accuracy: 0.9436 - val_loss: 0.0651 - val_accuracy: 0.9793\n",
      "Epoch 10/10\n",
      "151/151 [==============================] - 31s 207ms/step - loss: 0.1711 - accuracy: 0.9483 - val_loss: 0.0556 - val_accuracy: 0.9845\n"
     ]
    }
   ],
   "source": [
    "# Fit the model\n",
    "history = model.fit_generator(datagen.flow(X_train,Y_train, batch_size=batch_size),\n",
    "                              epochs = epochs, validation_data = (X_val,Y_val), steps_per_epoch=X_train.shape[0] // batch_size)"
   ]
  },
  {
   "cell_type": "markdown",
   "id": "880351f2",
   "metadata": {},
   "source": [
    "## Evaluate the Model"
   ]
  },
  {
   "cell_type": "markdown",
   "id": "08011848",
   "metadata": {},
   "source": [
    "Loss fonksiyonunun nasıl değiştiğine bakalım."
   ]
  },
  {
   "cell_type": "code",
   "execution_count": 20,
   "id": "c50aa79e",
   "metadata": {},
   "outputs": [
    {
     "data": {
      "image/png": "[encoded data removed]",
      "text/plain": [
       "<Figure size 432x288 with 1 Axes>"
      ]
     },
     "metadata": {
      "needs_background": "light"
     },
     "output_type": "display_data"
    }
   ],
   "source": [
    "#Plot the loss and accuracy curves for training and validation\n",
    "plt.plot(history.history['val_loss'], color='b', label='validation loss')\n",
    "plt.title(\"Test Loss\")\n",
    "plt.xlabel(\"Number of Epochs\")\n",
    "plt.ylabel(\"Loss\")\n",
    "plt.legend()\n",
    "plt.show()"
   ]
  },
  {
   "cell_type": "markdown",
   "id": "1975da83",
   "metadata": {},
   "source": [
    "Yukarıda validation'a ait loss grafiğini görmekteyiz. Epoch sayısı artırıldığında loss'daki azalmada devam edecektir."
   ]
  },
  {
   "cell_type": "code",
   "execution_count": 21,
   "id": "41598c8f",
   "metadata": {},
   "outputs": [
    {
     "name": "stdout",
     "output_type": "stream",
     "text": [
      "132/132 [==============================] - 1s 8ms/step\n"
     ]
    },
    {
     "data": {
      "image/png": "[encoded data removed]",
      "text/plain": [
       "<Figure size 576x576 with 2 Axes>"
      ]
     },
     "metadata": {
      "needs_background": "light"
     },
     "output_type": "display_data"
    }
   ],
   "source": [
    "#confusion matrix\n",
    "import seaborn as sns\n",
    "#Predict the values from the validation dataset\n",
    "Y_pred = model.predict(X_val)\n",
    "#Convert predictions classes to one hot vectors\n",
    "Y_pred_classes = np.argmax(Y_pred, axis=1)\n",
    "#Convert validation observations to one hot vectors\n",
    "Y_true = np.argmax(Y_val, axis=1)\n",
    "#compute the confusion matrix\n",
    "confusion_mtx = confusion_matrix(Y_true, Y_pred_classes)\n",
    "#plot the confusion matrix\n",
    "f,ax = plt.subplots(figsize=(8,8))\n",
    "sns.heatmap(confusion_mtx, annot=True, linewidths=0.01, cmap=\"Greens\", linecolor=\"gray\", fmt=\".1f\", ax=ax)\n",
    "plt.xlabel(\"Predicted label\")\n",
    "plt.ylabel(\"True label\")\n",
    "plt.title(\"Confusion Matrix\")\n",
    "plt.show()"
   ]
  },
  {
   "cell_type": "markdown",
   "id": "a91c6b80",
   "metadata": {},
   "source": [
    "Y_pred_classes = np.argmax(Y_pred, axis=1) satırında; Y_pred'in indekslerini Y_pred_classes'a eşitliyoruz."
   ]
  },
  {
   "cell_type": "markdown",
   "id": "1adbce1c",
   "metadata": {},
   "source": [
    "Çıktıyı inceleyelim. Mesela ilk hücreye bakalım. Gerçekten 0 sayısı test edilmiş ve 0 prediction'u yapmış. Mesela True label'da 4'e bakıldığında geerçek değer 4 ve 451 tanesini doğru bir şekilde predict etmiştir. Mesela True label değeri 9 ama predict değeri 0 olan 1 tane değer var."
   ]
  }
 ],
 "metadata": {
  "kernelspec": {
   "display_name": "Python 3 (ipykernel)",
   "language": "python",
   "name": "python3"
  },
  "language_info": {
   "codemirror_mode": {
    "name": "ipython",
    "version": 3
   },
   "file_extension": ".py",
   "mimetype": "text/x-python",
   "name": "python",
   "nbconvert_exporter": "python",
   "pygments_lexer": "ipython3",
   "version": "3.9.7"
  }
 },
 "nbformat": 4,
 "nbformat_minor": 5
}
